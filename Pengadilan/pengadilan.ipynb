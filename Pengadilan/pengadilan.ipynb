{
 "cells": [
  {
   "cell_type": "code",
   "execution_count": 1,
   "id": "abf8dcfc",
   "metadata": {},
   "outputs": [
    {
     "ename": "ModuleNotFoundError",
     "evalue": "No module named 'sastrawi'",
     "output_type": "error",
     "traceback": [
      "\u001b[31m---------------------------------------------------------------------------\u001b[39m",
      "\u001b[31mModuleNotFoundError\u001b[39m                       Traceback (most recent call last)",
      "\u001b[36mCell\u001b[39m\u001b[36m \u001b[39m\u001b[32mIn[1]\u001b[39m\u001b[32m, line 8\u001b[39m\n\u001b[32m      6\u001b[39m \u001b[38;5;28;01mfrom\u001b[39;00m\u001b[38;5;250m \u001b[39m\u001b[34;01msklearn\u001b[39;00m\u001b[34;01m.\u001b[39;00m\u001b[34;01mfeature_extraction\u001b[39;00m\u001b[34;01m.\u001b[39;00m\u001b[34;01mtext\u001b[39;00m\u001b[38;5;250m \u001b[39m\u001b[38;5;28;01mimport\u001b[39;00m TfidfVectorizer\n\u001b[32m      7\u001b[39m \u001b[38;5;28;01mfrom\u001b[39;00m\u001b[38;5;250m \u001b[39m\u001b[34;01mrouge_score\u001b[39;00m\u001b[38;5;250m \u001b[39m\u001b[38;5;28;01mimport\u001b[39;00m rouge_scorer\n\u001b[32m----> \u001b[39m\u001b[32m8\u001b[39m \u001b[38;5;28;01mfrom\u001b[39;00m\u001b[38;5;250m \u001b[39m\u001b[34;01msastrawi\u001b[39;00m\u001b[34;01m.\u001b[39;00m\u001b[34;01mstemmer\u001b[39;00m\u001b[38;5;250m \u001b[39m\u001b[38;5;28;01mimport\u001b[39;00m Stemmer\n\u001b[32m      9\u001b[39m \u001b[38;5;28;01mfrom\u001b[39;00m\u001b[38;5;250m \u001b[39m\u001b[34;01msastrawi\u001b[39;00m\u001b[34;01m.\u001b[39;00m\u001b[34;01mstopwordremover\u001b[39;00m\u001b[38;5;250m \u001b[39m\u001b[38;5;28;01mimport\u001b[39;00m StopWordRemoverFactory\n",
      "\u001b[31mModuleNotFoundError\u001b[39m: No module named 'sastrawi'"
     ]
    }
   ],
   "source": [
    "import os\n",
    "import re\n",
    "import string\n",
    "import networkx as nx\n",
    "import numpy as np\n",
    "from sklearn.feature_extraction.text import TfidfVectorizer\n",
    "from rouge_score import rouge_scorer\n",
    "from sastrawi.stemmer import Stemmer\n",
    "from sastrawi.stopwordremover import StopWordRemoverFactory"
   ]
  },
  {
   "cell_type": "code",
   "execution_count": 3,
   "id": "8f155ced",
   "metadata": {},
   "outputs": [
    {
     "name": "stdout",
     "output_type": "stream",
     "text": [
      "Name: Sastrawi\n",
      "Version: 1.0.1\n",
      "Summary: Library for stemming Indonesian (Bahasa) text\n",
      "Home-page: https://github.com/har07/sastrawi\n",
      "Author: Hanif Amal Robbani\n",
      "Author-email: dev.har07@gmail.com\n",
      "License: MIT\n",
      "Location: C:\\Users\\erwin\\VDBQdrant\\Lib\\site-packages\n",
      "Requires: \n",
      "Required-by: \n"
     ]
    }
   ],
   "source": [
    "!pip show sastrawi\n"
   ]
  },
  {
   "cell_type": "code",
   "execution_count": null,
   "id": "2eabacac",
   "metadata": {},
   "outputs": [],
   "source": [
    "\n",
    "\n",
    "# Step 1: Define text preprocessing functions using Sastrawi\n",
    "def remove_headers_footers(text):\n",
    "    # Basic regular expression to remove common header/footer (watermarks, etc.)\n",
    "    text = re.sub(r'\\b(Mahkamah Agung|Nomor|Tanggal)\\b', '', text)\n",
    "    return text\n",
    "\n",
    "def clean_text(text):\n",
    "    # Remove punctuation, numbers, extra spaces\n",
    "    text = text.lower()\n",
    "    text = re.sub(f\"[{string.punctuation}0-9]\", \"\", text)\n",
    "    text = ' '.join(text.split())  # Remove extra spaces\n",
    "    return text\n",
    "\n",
    "def sentence_tokenize(text):\n",
    "    # A simple sentence tokenizer based on punctuation (could be expanded)\n",
    "    return re.split(r'(?<!\\w\\.\\w.)(?<=\\.|\\?)\\s', text)\n",
    "\n",
    "def apply_stemming(sentence):\n",
    "    stemmer = Stemmer()\n",
    "    return ' '.join([stemmer.stem(word) for word in sentence.split()])\n",
    "\n",
    "def preprocess_text_with_sastrawi(text):\n",
    "    # Remove non-text elements like watermarks, header/footer\n",
    "    text = remove_headers_footers(text)\n",
    "    \n",
    "    # Tokenization and cleaning\n",
    "    text = clean_text(text)\n",
    "    \n",
    "    # Tokenize sentences and words\n",
    "    sentences = sentence_tokenize(text)\n",
    "    \n",
    "    # Apply stemming using Sastrawi\n",
    "    stemmed_sentences = [apply_stemming(sentence) for sentence in sentences]\n",
    "    \n",
    "    # Remove stopwords using Sastrawi stopword remover\n",
    "    stopwords_factory = StopWordRemoverFactory()\n",
    "    stopwords = stopwords_factory.get_stopwords()  # Sastrawi's stopword list\n",
    "    cleaned_sentences = [' '.join([word for word in sentence.split() if word not in stopwords]) for sentence in stemmed_sentences]\n",
    "    \n",
    "    return cleaned_sentences\n",
    "\n",
    "# Step 2: TF-IDF Calculation\n",
    "def compute_tfidf(sentences):\n",
    "    vectorizer = TfidfVectorizer()\n",
    "    tfidf_matrix = vectorizer.fit_transform(sentences)\n",
    "    return tfidf_matrix, vectorizer\n",
    "\n",
    "# Step 3: Cosine Similarity Calculation\n",
    "def cosine_similarity(tfidf_matrix):\n",
    "    cosine_similarities = np.dot(tfidf_matrix, tfidf_matrix.T).toarray()\n",
    "    return cosine_similarities\n",
    "\n",
    "# Step 4: TextRank Algorithm\n",
    "def textrank(cosine_similarities, sentences, top_n=5):\n",
    "    # Create similarity graph\n",
    "    nx_graph = nx.from_numpy_matrix(cosine_similarities)\n",
    "    scores = nx.pagerank(nx_graph)  # Compute TextRank scores\n",
    "    ranked_sentences = [sentences[i] for i in sorted(scores, key=scores.get, reverse=True)[:top_n]]\n",
    "    return ' '.join(ranked_sentences)\n",
    "\n",
    "# Step 5: ROUGE Evaluation\n",
    "def evaluate_rouge(reference_summary, generated_summary):\n",
    "    scorer = rouge_scorer.RougeScorer(metrics=['rouge1', 'rouge2', 'rougeL'], lang='en')\n",
    "    scores = scorer.score(reference_summary, generated_summary)\n",
    "    return scores\n",
    "\n",
    "# Step 6: Precision, Recall, F-Measure Calculation\n",
    "def evaluate_precision_recall_fmeasure(reference_summary, generated_summary):\n",
    "    reference_tokens = set(reference_summary.split())\n",
    "    generated_tokens = set(generated_summary.split())\n",
    "    \n",
    "    true_positive = len(reference_tokens & generated_tokens)\n",
    "    false_positive = len(generated_tokens - reference_tokens)\n",
    "    false_negative = len(reference_tokens - generated_tokens)\n",
    "    \n",
    "    precision = true_positive / (true_positive + false_positive) if (true_positive + false_positive) > 0 else 0\n",
    "    recall = true_positive / (true_positive + false_negative) if (true_positive + false_negative) > 0 else 0\n",
    "    f_measure = 2 * (precision * recall) / (precision + recall) if (precision + recall) > 0 else 0\n",
    "    \n",
    "    return precision, recall, f_measure\n",
    "\n",
    "# Step 7: Load and process all text files from the folder\n",
    "data_folder_path = \"data_putusan\"\n",
    "dok_putusan_txt_folder = os.path.join(data_folder_path, 'dok_putusan_txt')\n",
    "\n",
    "# Reading all text files in 'dok_putusan_txt' folder\n",
    "texts = []\n",
    "for filename in os.listdir(dok_putusan_txt_folder):\n",
    "    if filename.endswith(\".txt\") and filename != '.DS_Store':\n",
    "        file_path = os.path.join(dok_putusan_txt_folder, filename)\n",
    "        with open(file_path, 'r', encoding='utf-8') as file:\n",
    "            text = file.read()\n",
    "            texts.append(text)\n",
    "\n",
    "# Display the number of text documents loaded\n",
    "print(f\"Number of documents loaded: {len(texts)}\")\n",
    "\n",
    "# Process the first document for summarization\n",
    "sample_doc_text = texts[0]\n",
    "print(f\"Sample document (first 500 characters): {sample_doc_text[:500]}\")\n",
    "\n",
    "# Example Usage - Summarize and Evaluate the First Document\n",
    "reference_summary = \"Masukkan ringkasan referensi di sini.\"  # Replace with your reference summary\n",
    "\n",
    "# Preprocess the text\n",
    "sentences = preprocess_text_with_sastrawi(sample_doc_text)\n",
    "\n",
    "# Compute TF-IDF matrix\n",
    "tfidf_matrix, vectorizer = compute_tfidf(sentences)\n",
    "\n",
    "# Calculate Cosine Similarity\n",
    "cosine_similarities = cosine_similarity(tfidf_matrix)\n",
    "\n",
    "# Apply TextRank\n",
    "generated_summary = textrank(cosine_similarities, sentences, top_n=5)\n",
    "\n",
    "# Evaluate using ROUGE\n",
    "rouge_scores = evaluate_rouge(reference_summary, generated_summary)\n",
    "\n",
    "# Evaluate using Precision, Recall, F-Measure\n",
    "precision, recall, f_measure = evaluate_precision_recall_fmeasure(reference_summary, generated_summary)\n",
    "\n",
    "# Print Results\n",
    "print(\"\\nGenerated Summary:\", generated_summary)\n",
    "print(\"\\nROUGE Scores:\", rouge_scores)\n",
    "print(\"\\nPrecision:\", precision)\n",
    "print(\"Recall:\", recall)\n",
    "print(\"F-Measure:\", f_measure)\n"
   ]
  },
  {
   "cell_type": "code",
   "execution_count": null,
   "id": "4b579929",
   "metadata": {},
   "outputs": [],
   "source": [
    "# sss"
   ]
  },
  {
   "cell_type": "code",
   "execution_count": 7,
   "id": "2f2e5012",
   "metadata": {},
   "outputs": [
    {
     "data": {
      "text/plain": [
       "['.DS_Store',\n",
       " '.ipynb_checkpoints',\n",
       " 'doc01.txt',\n",
       " 'doc02.txt',\n",
       " 'doc03.txt',\n",
       " 'doc04.txt',\n",
       " 'doc05.txt',\n",
       " 'doc06.txt',\n",
       " 'doc07.txt',\n",
       " 'doc08.txt',\n",
       " 'doc09.txt',\n",
       " 'doc10.txt',\n",
       " 'doc11.txt',\n",
       " 'doc12.txt',\n",
       " 'doc13.txt',\n",
       " 'doc14.txt',\n",
       " 'doc15.txt',\n",
       " 'doc16.txt',\n",
       " 'doc17.txt',\n",
       " 'doc18.txt',\n",
       " 'doc19.txt',\n",
       " 'doc20.txt',\n",
       " 'doc21.txt',\n",
       " 'doc22.txt',\n",
       " 'doc23.txt',\n",
       " 'doc24.txt',\n",
       " 'doc25.txt',\n",
       " 'doc26.txt',\n",
       " 'doc27.txt',\n",
       " 'doc28.txt',\n",
       " 'doc29.txt',\n",
       " 'doc30.txt',\n",
       " 'doc31.txt',\n",
       " 'doc32.txt',\n",
       " 'doc33.txt',\n",
       " 'doc34.txt',\n",
       " 'doc35.txt',\n",
       " 'doc36.txt',\n",
       " 'doc37.txt',\n",
       " 'doc38.txt',\n",
       " 'doc39.txt',\n",
       " 'doc40.txt',\n",
       " 'doc41.txt',\n",
       " 'doc42.txt',\n",
       " 'doc43.txt',\n",
       " 'doc44.txt',\n",
       " 'doc45.txt',\n",
       " 'doc46.txt',\n",
       " 'doc47.txt',\n",
       " 'doc48.txt',\n",
       " 'doc49.txt',\n",
       " 'doc50.txt']"
      ]
     },
     "execution_count": 7,
     "metadata": {},
     "output_type": "execute_result"
    }
   ],
   "source": [
    "import os\n",
    "# Let's check the contents of the folder that may contain the raw text documents\n",
    "data_folder_path = \"data_putusan\"\n",
    "dok_putusan_txt_folder = os.path.join(data_folder_path, 'dok_putusan_txt')\n",
    "os.listdir(dok_putusan_txt_folder)\n"
   ]
  },
  {
   "cell_type": "code",
   "execution_count": 29,
   "id": "9cc1ee01",
   "metadata": {},
   "outputs": [
    {
     "data": {
      "text/plain": [
       "'  PUTUSAN Nomor 374/Pid.Sus/2017/PN Sim  DEMI KEADILAN BERDASARKAN KETUHANAN YANG MAHA ESA  Pengadilan Negeri Simalungun yang mengadili perkara pidana  dengan acara pemeriksaan biasa dalam tingkat pertama menjatuhkan putusan sebagai berikut dalam perkara Terdakwa :  2. Tempat lahir  : Dosin  3. Umur/Tanggal lahir  : 39/23 Januari 1978  4. Jenis kelamin  : Laki-laki  5. Kebangsaan  : Indonesia  6. Tempat tinggal  :Kampung Tengah nagori Maligas Bayu Kec. ub lik  : Surianto Alias Gundol  1. Nama le'"
      ]
     },
     "execution_count": 29,
     "metadata": {},
     "output_type": "execute_result"
    }
   ],
   "source": [
    "# Load the content of 'doc23.txt' as a sample document for summarization\n",
    "sample_doc_path = os.path.join(dok_putusan_txt_folder, 'doc23.txt')\n",
    "\n",
    "with open(sample_doc_path, 'r', encoding='utf-8') as file:\n",
    "    document_text = file.read()\n",
    "\n",
    "# Display the first 500 characters of the document to understand its structure\n",
    "document_text[:500]"
   ]
  },
  {
   "cell_type": "code",
   "execution_count": 30,
   "id": "962ff637",
   "metadata": {},
   "outputs": [
    {
     "data": {
      "text/plain": [
       "50"
      ]
     },
     "execution_count": 30,
     "metadata": {},
     "output_type": "execute_result"
    }
   ],
   "source": [
    "# Reading all text files in 'dok_putusan_txt' folder\n",
    "texts = []\n",
    "for filename in os.listdir(dok_putusan_txt_folder):\n",
    "    if filename.endswith(\".txt\") and filename != '.DS_Store':\n",
    "        file_path = os.path.join(dok_putusan_txt_folder, filename)\n",
    "        with open(file_path, 'r', encoding='utf-8') as file:\n",
    "            text = file.read()\n",
    "            texts.append(text)\n",
    "\n",
    "# Display the number of text documents loaded\n",
    "len(texts)  # Showing the number of documents processed\n"
   ]
  },
  {
   "cell_type": "code",
   "execution_count": 31,
   "id": "c781f7fe",
   "metadata": {},
   "outputs": [
    {
     "name": "stdout",
     "output_type": "stream",
     "text": [
      "ep  P U T U SN Nomor 5/Pid.Sus/2020/PN Kag  DEMI KEADILAN BERDASARKAN KETUHANAN YANG MAHA ESA  Pengadilan Negeri Kayuagung yang mengadili perkara pidana dengan  acara pemeriksaan biasa dalam tingkat pertama menjatuhkan putusan sebagai berikut dalam perkara Terdakwa :  Tempat lahir  : Palembang  Umur/Tanggal lahir  : 34 Tahun / 24 April 1985  Jenis kelamin  : Laki-laki  Kebangsaan  : Indonesia  Tempat tinggal  : Jl. Tangga Takat No. 1029 Rt. 17 Rw. 07 Kel. Tangga ub lik  : KA Ibrahim Bin KH Abdul\n"
     ]
    }
   ],
   "source": [
    "print(texts[0][:500])\n"
   ]
  },
  {
   "cell_type": "code",
   "execution_count": 32,
   "id": "786e62d8",
   "metadata": {},
   "outputs": [
    {
     "data": {
      "text/plain": [
       "'ep P U T U SN Nomor 5PidSus2020PN Kag DEMI KEADILAN BERDASARKAN KETUHANAN YANG MAHA ESA Pengadilan Negeri Kayuagung yang mengadili perkara pidana dengan acara pemeriksaan biasa dalam tingkat pertama menjatuhkan putusan sebagai berikut dalam perkara Terdakwa  Tempat lahir  Palembang UmurTanggal lahir  34 Tahun  24 April 1985 Jenis kelamin  Lakilaki Kebangsaan  Indonesia Tempat tinggal  Jl Tangga Takat No 1029 Rt 17 Rw 07 Kel Tangga ub lik  KA Ibrahim Bin KH Abdullah Murod Nama lengkap  Islam Peke'"
      ]
     },
     "execution_count": 32,
     "metadata": {},
     "output_type": "execute_result"
    }
   ],
   "source": [
    "# Function to clean text: remove non-relevant elements such as headers, footers, and special characters\n",
    "def clean_text(text):\n",
    "    # Remove extra spaces, newline characters and special characters like digits and non-ASCII characters\n",
    "    text = re.sub(r'\\s+', ' ', text)\n",
    "    text = re.sub(r'[^A-Za-z0-9\\s]+', '', text)\n",
    "    return text.strip()\n",
    "\n",
    "# Clean all documents in the texts list\n",
    "cleaned_texts = [clean_text(text) for text in texts]\n",
    "\n",
    "# Show the first 500 characters of the first cleaned text document\n",
    "cleaned_texts[0][:500]  # Display the first 500 characters of the first document\n"
   ]
  },
  {
   "cell_type": "code",
   "execution_count": null,
   "id": "95645bb6",
   "metadata": {},
   "outputs": [
    {
     "data": {
      "text/plain": [
       "['ep P U T U SN Nomor 5PidSus2020PN Kag DEMI KEADILAN BERDASARKAN KETUHANAN YANG MAHA ESA Pengadilan Negeri Kayuagung yang mengadili perkara pidana dengan acara pemeriksaan biasa dalam tingkat pertama menjatuhkan putusan sebagai berikut dalam perkara Terdakwa  Tempat lahir  Palembang UmurTanggal lahir  34 Tahun  24 April 1985 Jenis kelamin  Lakilaki Kebangsaan  Indonesia Tempat tinggal  Jl Tangga Takat No 1029 Rt 17 Rw 07 Kel Tangga ub lik  KA Ibrahim Bin KH Abdullah Murod Nama lengkap  Islam Pekerjaan  Belum Bekerja Pendidikan  SMA tidak tamatne Agama k Takat Kec Seberang Ulu II Kota Palembang Terdakwa KA Ibrahim Bin KH Abdullah Murod ditangkap pada tanggal 26 September 2019 dan ditahan dalam rumah tahanan negara oleh  1 Penyidik sejak tanggal 28 September 2019 sampai dengan tanggal 18 Oktober 2019 2 Penyidik Perpanjangan Oleh Penuntut Umum sejak tanggal 19 Oktober 2019 sampai dengan tanggal 27 November 2019 3 Penuntut Umum sejak tanggal 26 November 2019 sampai dengan tanggal lik sejak tanggal 13 Desember 2019 sampai dengan tanggal 11 Januari 2020 5 Hakim Pengadilan Negeri sejak tanggal 7 Januari 2020 sampai dengan ub tanggal 5 Februari 2020 6 Hakim Pengadilan Negeri Perpanjangan oleh Ketua Pengadilan Negeri Kayu Agung sejak tanggal 6 Februari 2020 sampai dengan tanggal 5 April 2020 15 Desember 2019 4 Penuntut Umum Perpanjangan Pertama Oleh Ketua Pengadilan Negeri 7 Hakim Pengadilan Negeri Perpanjangan pertama oleh Ketua Pengadilan mempergunakan haknya untuk didampingi oleh Penasihat Hukum meskipun kepadanya telah diberitahukan tentang haknya untuk on Halaman 1 dari 19 Halaman Putusan No  5PidSus2020PN Kag d didampingi penasihat hukum Terdakwa tidak Tinggi Palembang sejak tanggal 6 April 2020 sampai dengan 5 Mei 2020 Halaman 1 ep Pengadilan Negeri tersebut  Setelah membaca  Ketua Pengadilan Negeri Kayuagung  Penetapan Nomor  5PidSus2020PN Kag tanggal 7 Januari 2020 tentang Penunjukan Majelis Hakim  Penetapan Majelis Hakim Nomor  5PidSus2020PN Kag tanggal 7 Januari 2020 tentang Penetapan Hari Sidang  Berkas perkara dan suratsurat lain yang bersangkutan Setelah mendengar keterangan Saksisaksi dan Terdakwa serta ub lik Setelah mendengar pembacaan tuntutan pidana yang diajukan oleh Penuntut Umum yang pada pokoknya sebagai berikut  1 Menyatakan terdakwa KA IBRAHIM BIN KH ABDULLAH MUROD telah memperhatikan barang bukti yang diajukan oleh Penuntut Umum di persidangan terbukti secara sah dan meyakinkan bersalah melakukan tindak pidana Permufakatan jahat untuk melakukan tindak pidana tanpa hak menjual k Narkotika Golongan I bukan tanaman sebagaimana diatur dalam Dakwaanne tentang Narkotika Kesatu Pasal 114 Ayat 1 Jo Pasal 132 Ayat 1 UU Nomor 35 Tahun 2009 2 Menjatuhkan pidana Penjara kepada terdakwa selama 8 Delapan Tahun dikurangi selama terdakwa berada dalam tahanan sementara dengan perintah agar terdakwa tetap ditahan 3 Membebankan kepada terdakwa untuk membayar denda sebesar Rp 1000000000 Satu Milyar Rupiah dengan ketentuan apabila denda tidak dibayar maka diganti dengan pidana penjara selama 6 Enam Bulan 4 Menyatakan barang bukti berupa   10  sepuluh setengah butir pil ekstasi dengan rincian 6  enam lik setengah butir Pil ekstasi warna cream bentuk tablet segi empat panjang logo gold yang dibungkus plastik bening dan 4 butir pil ekstasi warna cream bentuk tablet segi empat panjang logo gold yang dibalut plastik 5 Menetapkan terdakwa dibebani untuk membayar biaya perkara sebesar Rp on Halaman 2 dari 19 Halaman Putusan No  5PidSus2020PN Kag d 2000 dua ribu rupiah puluh tujuh ribu rupiah Dirampas untuk Negara ub hijau dengan berat netto keseluruhan 4112 Gram 1 satu Buah Bra Warna hitam 1 satu unit handphone warna merah oppo berikut simcard Dirampas untuk dimusnahkan Uang tunai sebanyak Rp 2927000 dua juta sembilan ratus dua Halaman 2 mendengar permohonan Terdakwa yang Setelah pada pokoknya menyatakan Terdakwa memohon agar dijatuhkan hukuman yang seringan ringannya  Setelah mendengar tanggapan Penuntut Umum terhadap permohonan Terdakwa yang pada pokoknya tetap pada tuntutannya  Menimbang bahwa Terdakwa diajukan ke persidangan oleh Penuntut Umum dengan surat dakwaan sebagai berikut  DAKWAAN Bahwa terdakwa KA IBRAHIM BIN KH ABDULLAH MUROD pada hari ub lik Kamis tanggal 26 September 2019 sekira jam 0030 Wib atau setidaktidaknya pada suatu waktu dalam bulan September Tahun 2019 atau setidaktidaknya masih dalam tahun 2019 bertempat di Desa Ulak Segelung Kecamatan Indralaya Kabupaten Ogan Ilir atau setidaktidaknya disuatu tempat yang masih termasuk dalam daerah Hukum Pengadilan Negeri Kayuagung yang berwenang memeriksa k KESATU dan mengadili perkara pidana ini percobaan atau permufakatan jahat untuk melakukan tindak pidana Narkotika tanpa hak atau melawan hukum menawarkanne untuk dijual menjual membeli menerima menjadi perantara dalam jual beli menukar atau menyerahkan Narkotika golongan I satu jenis pil ekstasi perbuatan mana dilakukan terdakwa dengan cara sebagai berikut Bahwa bermula pada hari Rabu tanggal 25 September 2019 sekira pukul 1930 wib saksi Eksa Mahyudi saksi Benny Wiryadi anggota Sat Res Narkoba mendapatkan informasi dari masyarakat bahwa ada acara orgen tunggal Golden Star di Desa Ulak Segelung Kecamatan Indralaya Kabupaten Ogan Ilir yang mana di acara tersebut ada peredaran gelap narkotika jenis ekstasi Lalu sekira pukul 2300 wib saksi Eksa Mahyudi dan saksi Benny Wiryadi melakukan penyelidikan di lik orgen tunggal golden star sekira pukul 0000 wib saksi Eksa Mahyudi dan saksi Benny Wiryadi melihat terdakwa dan saksi Laila yang merupakan istri terdakwa ub Kamis tanggal 26 September 2019 Sekira pukul 0030 wib saksi Eksa Mahyudi dan saksi Benny Wiryadi melakukan penggeledahan dan pemeriksaan terhadap terdakwa dan saksi Laila sedang berdiri di belakang mobil yang terparkir di area berkas penuntutan terpisah sedang menjual pil ekstasi Kemudian pada hari orgen tunggal golden star Ketika dilakukan penggeledahan terhadap terdakwa penggeledahan oleh saksi Eksa Mahyudi dan saksi Benny Wiryadi Selanjutnya terdakwa dan saksi Laila dibawa ke Polres Ogan Ilir sempai di Polres Ogan Ilir on Halaman 3 dari 19 Halaman Putusan No  5PidSus2020PN Kag d sekira pukul 0110 wib saksi Laila digeledah oleh Polisi Wanita yaitu saksi Mella tidak ditemukan barang bukti narkotika dan Saksi Laila tidak dilakukan M Halaman 3 ep Putriana dan ditemukan pil ekstasi berupa 6 enam setengah butir warna cream berbentuk tablet segi empat panjang logo gold terbungkus plastic klip bening dan 4 empat butir warna cream berbentuk tablet segi empat panjang logo gold terbungkus plastic warna hijau di dalam BH warna hitam sebelah kanan dan barang bukti yang ditemukan yaitu 1 satu unit handphone warna merah merk oppo beserta simcard 3 0895604331314 milik saksi Laila yang dipegang tangan kanan saksi Laila uang tunai Rp2927000 dua juta Sembilan ratus dua puluh tujuh ribu rupiah hasil dari terdakwa dan saksi Laila menjual pil ekstasi di dalam Bahwa terdakwa membeli pil ekstasi dengan NURLI ALS YENI ALS ub lik BONBON di lorong jambu tangga buntung pada hari Rabu tanggal 25 September 2019 sekira pukul 1500 wib sebanyak 10 butir pil ekstasi warna hijau logo kodok 11 butir pil ekstasi warna cream logo gold seharga Rp3900000 tiga juta Sembilan ratus kemudian terdakwa telah menjual pil ekstasi sebanyak 10 sepuluh setengah di acara orgen tunggal golden star k kantong kanan celana terdakwa Bahwa berdasarkan berita acara pemeriksaan laboratorium forensic nomo 2710NNF2019 tanggal 1 Oktober 2019 yang ditandatangani Kepala Bidangne Laboratorium forensic Polda Sumsel Haris Aksara SH pemeriksa 1 I Made Swetra SSiMSi pemeriksa 2 Edhi Suryanto SSiApt MM MT pemeriksa 3 Aliyus Saputra S Kom dengan kesimpulan bahwa BB 1 BB 2 BB 3 BB 4 adalah positif mengandung MDMA yang terdaftar sebagai golongan I satu nomor urut 37 lampiran peraturan Menteri Kesehatan RI No 50 tahun 2018 Bahwa perbuatan terdakwa dalam menawarkan untuk dijual menjual membeli menerima menjadi perantara dalam jual beli menukar atau menyerahkan Narkotika golongan I satu bukan tanaman tersebut adalah tanpa Perbuatan terdakwa sebagaimana diatur dan diancam Pidana dalam Pasal lik seizin dari pihak yang berwenang 114 ayat 1 Jo Pasal 132 ayat 1 UU RI No 35 Tahun 2009 Tentang Narkotika ub KEDUA Bahwa terdakwa KA IBRAHIM BIN KH ABDULLAH MUROD pada hari Kamis tanggal 26 September 2019 sekira jam 0030 Wib atau setidaktidaknya ATAU pada suatu waktu dalam bulan September Tahun 2019 atau setidaktidaknya Kabupaten Ogan Ilir atau setidaktidaknya disuatu tempat yang masih termasuk dalam daerah Hukum Pengadilan Negeri Kayuagung yang berwenang memeriksa on Halaman 4 dari 19 Halaman Putusan No  5PidSus2020PN Kag d dan mengadili perkara pidana ini percobaan atau permufakatan jahat untuk masih dalam tahun 2019 bertempat di Desa Ulak Segelung Kecamatan Indralaya Halaman 4 ep melakukan tindak pidana Narkotika secara tanpa hak atau melawan hukum memiliki menyimpan atau menyediakan Narkotika Golongan 1 bukan tanaman jenis sabu perbuatan mana dilakukan terdakwa dengan cara sebagai berikut  Bahwa bermula pada hari Rabu tanggal 25 September 2019 sekira pukul 1930 wib saksi Eksa Mahyudi saksi Benny Wiryadi anggota Sat Res Narkoba mendapatkan informasi dari masyarakat bahwa ada acara orgen tunggal Golden Star di Desa Ulak Segelung Kecamatan Indralaya Kabupaten Ogan Ilir yang mana di acara tersebut ada peredaran gelap narkotika jenis ekstasi Lalu sekira pukul 2300 wib saksi Eksa Mahyudi dan saksi Benny Wiryadi melakukan penyelidikan di ub lik Benny Wiryadi melihat terdakwa dan saksi Laila yang merupakan istri terdakwa berkas penuntutan terpisah sedang menjual pil ekstasi Kemudian pada hari Kamis tanggal 26 September 2019 Sekira pukul 0030 wib saksi Eksa Mahyudi dan saksi Benny Wiryadi melakukan penggeledahan dan pemeriksaan terhadap terdakwa dan saksi Laila sedang berdiri di belakang mobil yang terparkir di area k orgen tunggal golden star sekira pukul 0000 wib saksi Eksa Mahyudi dan saksi orgen tunggal golden star Ketika dilakukan penggeledahan terhadap terdakwa tidak ditemukan barang bukti narkotika dan Saksi Laila tidak dilakukanne penggeledahan oleh saksi Eksa Mahyudi dan saksi Benny Wiryadi Selanjutnya terdakwa dan saksi Laila dibawa ke Polres Ogan Ilir sempai di Polres Ogan Ilir sekira pukul 0110 wib saksi Laila digeledah oleh Polisi Wanita yaitu saksi Mella Putriana dan ditemukan pil ekstasi berupa 6 enam setengah butir warna cream berbentuk tablet segi empat panjang logo gold terbungkus plastic klip bening dan 4 empat butir warna cream berbentuk tablet segi empat panjang logo gold terbungkus plastic warna hijau di dalam BH warna hitam sebelah kanan dan barang bukti yang ditemukan yaitu 1 satu unit handphone warna merah merk oppo beserta simcard 3 0895604331314 milik saksi Laila yang dipegang tangan lik kanan saksi Laila uang tunai Rp2927000 dua juta Sembilan ratus dua puluh tujuh ribu rupiah hasil dari terdakwa dan saksi Laila menjual pil ekstasi di dalam ub Bahwa berdasarkan berita acara pemeriksaan laboratorium forensic nomo 2710NNF2019 tanggal 1 Oktober 2019 yang ditandatangani Kepala Bidang Laboratorium forensic Polda Sumsel Haris Aksara SH pemeriksa 1 I Made Swetra kantong kanan celana terdakwa SSiMSi pemeriksa 2 Edhi Suryanto SSiApt MM MT pemeriksa 3 Aliyus mengandung MDMA yang terdaftar sebagai golongan I satu nomor urut 37 on Halaman 5 dari 19 Halaman Putusan No  5PidSus2020PN Kag d lampiran peraturan Menteri Kesehatan RI No 50 tahun 2018 Saputra S Kom dengan kesimpulan bahwa BB 1 BB 2 BB 3 BB 4 adalah positif Halaman 5 ep membeli menerima Bahwa perbuatan terdakwa dalam menawarkan untuk dijual menjual menjadi perantara dalam jual beli menukar atau menyerahkan Narkotika golongan I satu bukan tanaman tersebut adalah tanpa seizin dari pihak yang berwenang Perbuatan terdakwa sebagaimana diatur dan diancam Pidana dalam Pasal 112 ayat 1 Jo Pasal 132 ayat 1 UU RI No 35 Tahun 2009 Tentang Narkotika Menimbang bahwa terhadap dakwaan Penuntut Umum Terdakwa tidak Menimbang bahwa untuk membuktikan dakwaannya Penuntut Umum ub lik telah mengajukan saksisaksi sebagai berikut  1 Eksa Mahyudi dibawah sumpah memberikan keterangan yang pada pokoknya sebagai berikut   mengajukan keberatan Bahwa pada hari Kamis tanggal 26 September 2019 sekira pukul 0030 wib di sebuah orgen tunggal yang berada di Desa Ulak Segelung k Kec Indralaya Kab Ogan Ilir saksi bersama anggota polisi lainnya menangkap terdakwa karena menjual Narkotika berupa pil ekstasi Bahwa pada awalnya saksi bersama dan anggota lainnya mendapatne informasi pada hari Rabu sekira Pukul 1930 wib bahwa di lokasi tersebut yang sedang berlangsung acara orgen tunggal ada peredaran Narkotika mendapat informasi tersebut lalu saksi bersama anggota Polisi lainnya langsung melakukan penyelidikan ke lokasi tersebut kemudian saat di lokasi kejadian saksi dan saksi Benny Wiryadi melihat terdakwa dan Sdri Laila yang merupakan istri terdakwa sedang menjual pil ekstasi lalu sekira Pukul 0030 wib saksi dan saksi Benny Wiryadi melakukan penggeledahan dan pemeriksaan terhadap terdakwa dan Sdri Laila sedang berdiri di lik dilakukan penggeledahan terhadap terdakwa tidak ditemukan barang bukti narkotika kemudian terhadap Sdri Laila tidak dilakukan penggeledahan oleh saksi dan saksi Benny Wiryadi untuk selanjutnya terdakwa dan Sdri ub belakang mobil yang terparkir di area orgen tunggal golden star Ketika Laila dibawa ke Polres Ogan Ilir dan selanjutnya Sdri Laila digeledah oleh saksi Mella Putriana dan ditemukan pil ekstasi berupa 6 enam setengah butir warna cream berbentuk tablet segi empat panjang logo gold terbungkus plastic klip bening dan 4 empat butir warna cream hijau di dalam BH warna hitam sebelah kanan Bahwa 1 satu unit handphone warna merah merk oppo beserta on Halaman 6 dari 19 Halaman Putusan No  5PidSus2020PN Kag d simcard 3 0895604331314 milik Sdri Laila yang dipegang tangan kanan berbentuk tablet segi empat panjang logo gold terbungkus plastic warna Halaman 6 ep Sdri Laila dan uang tunai Rp 2927000 dua juta sembilan ratus dua puluh tujuh ribu rupiah hasil dari terdakwa dan Sdri Laila menjual pil ekstasi di dalam kantong kanan celana terdakwa Bahwa setelah kami tanyakan kepada terdakwa terdakwa menerangkan bahwa terdakwa membeli pil ekstasi dengan NURLI ALS YENI ALS BONBON di lorong jambu tangga buntung sebanyak 10 butir pil ekstasi warna hijau logo kodok 11 butir pil ekstasi warna cream logo gold menjual pil ekstasi sebanyak 10 sepuluh setengah butir di acara orgen tunggal golden star tersebut Bahwa terdakwa tidak memiliki izin untuk memiliki Narkotika jenis pil ub lik seharga Rp 3900000 tiga juta Sembilan ratus dan terdakwa telah ekstasi tersebut Terhadap keterangan saksi Terdakwa memberikan pendapat bahwa keterangan saksi tersebut benar seluruhnya 2 Benny Wiryadi dibawah sumpah memberikan keterangan yang pada k  pokoknya sebagai berikut  Bahwa pada hari Kamis tanggal 26 September 2019 sekira pukul 0030 wib di sebuah orgen tunggal yang berada di Desa Ulak Segelungne Kec Indralaya Kab Ogan Ilir saksi bersama anggota polisi lainnya menangkap terdakwa karena menjual Narkotika berupa pil ekstasi Bahwa pada awalnya saksi bersama dan anggota lainnya mendapat informasi pada hari Rabu sekira Pukul 1930 wib bahwa di lokasi tersebut yang sedang berlangsung acara orgen tunggal ada peredaran Narkotika mendapat informasi tersebut lalu saksi bersama anggota Polisi lainnya langsung melakukan penyelidikan ke lokasi tersebut kemudian saat di lokasi kejadian saksi dan saksi Eksa melihat terdakwa dan Sdri Laila yang merupakan istri terdakwa sedang menjual pil ekstasi lalu sekira Pukul lik pemeriksaan terhadap terdakwa dan Sdri Laila sedang berdiri di belakang mobil yang terparkir di area orgen tunggal golden star Ketika dilakukan penggeledahan terhadap terdakwa tidak ditemukan barang bukti narkotika ub 0030 wib saksi dan saksi Eksa melakukan penggeledahan dan kemudian terhadap Sdri Laila tidak dilakukan penggeledahan oleh saksi dan saksi Eksa untuk selanjutnya terdakwa dan Sdri Laila dibawa ke Polres Ogan Ilir dan selanjutnya Sdri Laila digeledah oleh saksi Mella Putriana dan ditemukan pil ekstasi berupa 6 enam setengah butir on Halaman 7 dari 19 Halaman Putusan No  5PidSus2020PN Kag d plastic klip bening dan 4 empat butir warna cream berbentuk tablet segi warna cream berbentuk tablet segi empat panjang logo gold terbungkus Halaman 7 ep empat panjang logo gold terbungkus plastic warna hijau di dalam BH warna hitam sebelah kanan Bahwa 1 satu unit handphone warna merah merk oppo beserta simcard 3 0895604331314 milik Sdri Laila yang dipegang tangan kanan Sdri Laila dan uang tunai Rp 2927000 dua juta sembilan ratus dua puluh tujuh ribu rupiah hasil dari terdakwa dan Sdri Laila menjual pil terdakwa terdakwa menerangkan bahwa terdakwa membeli pil ekstasi dengan NURLI ALS YENI ALS BONBON di lorong jambu tangga buntung sebanyak 10 butir pil ekstasi warna hijau logo kodok 11 butir pil ekstasi warna cream logo gold ub lik ekstasi di dalam kantong kanan celana terdakwa Bahwa setelah kami tanyakan kepada seharga Rp 3900000 tiga juta Sembilan ratus dan terdakwa telah menjual pil ekstasi sebanyak 10 sepuluh setengah butir di acara orgen tunggal golden star tersebut Bahwa terdakwa tidak memiliki izin untuk memiliki Narkotika jenis pil k ekstasi tersebut Terhadap keterangan saksi Terdakwa memberikan pendapat bahwa keterangan saksi tersebut benar seluruhnya Bahwa pada hari Kamis tanggal 26 September 2019 sekira pukul ne sebagai berikut  3 Mella dibawah sumpah memberikan keterangan yang pada pokoknya 0030 wib di sebuah orgen tunggal yang berada di Desa Ulak Segelung Kec Indralaya Kab Ogan Ilir saksi bersama anggota polisi lainnya menangkap terdakwa karena menjual Narkotika berupa pil ekstasi Bahwa pada awalnya saksi bersama dan anggota lainnya mendapat informasi pada hari Rabu sekira Pukul 1930 wib bahwa di lokasi tersebut yang sedang berlangsung acara orgen tunggal ada peredaran Narkotika lik langsung melakukan penyelidikan ke lokasi tersebut kemudian saat di lokasi kejadian saksi Eksa dan saksi Benny melihat terdakwa dan Sdri Laila yang merupakan istri terdakwa sedang menjual pil ekstasi lalu sekira ub mendapat informasi tersebut lalu saksi bersama anggota Polisi lainnya Pukul 0030 wib saksi Eksa dan saksi Benny melakukan penggeledahan dan pemeriksaan terhadap terdakwa dan Sdri Laila sedang berdiri di belakang mobil yang terparkir di area orgen tunggal golden star Ketika dilakukan penggeledahan terhadap terdakwa tidak ditemukan barang bukti oleh saksi Eksa dan saksi Benny untuk selanjutnya terdakwa dan Sdri Laila dibawa ke Polres Ogan Ilir dan selanjutnya Sdri Laila digeledah oleh on Halaman 8 dari 19 Halaman Putusan No  5PidSus2020PN Kag d saksi dan ditemukan pil ekstasi berupa 6 enam setengah butir warna narkotika kemudian terhadap Sdri Laila tidak dilakukan penggeledahan Halaman 8 ep cream berbentuk tablet segi empat panjang logo gold terbungkus plastic klip bening dan 4 empat butir warna cream berbentuk tablet segi empat panjang logo gold terbungkus plastic warna hijau di dalam BH warna hitam sebelah kanan Bahwa 1 satu unit handphone warna merah merk oppo beserta simcard 3 0895604331314 milik Sdri Laila yang dipegang tangan kanan Sdri Laila dan uang tunai Rp 2927000 dua juta sembilan ratus dua ekstasi di dalam kantong kanan celana terdakwa Bahwa setelah kami tanyakan kepada terdakwa terdakwa menerangkan bahwa terdakwa membeli pil ekstasi dengan NURLI ALS ub lik puluh tujuh ribu rupiah hasil dari terdakwa dan Sdri Laila menjual pil YENI ALS BONBON di lorong jambu tangga buntung sebanyak 10 butir pil ekstasi warna hijau logo kodok 11 butir pil ekstasi warna cream logo gold seharga Rp 3900000 tiga juta Sembilan ratus dan terdakwa telah menjual pil ekstasi sebanyak 10 sepuluh setengah butir di acara orgen k tunggal golden star tersebut Bahwa terdakwa tidak memiliki izin untuk memiliki Narkotika jenis pilne ekstasi tersebut Terhadap keterangan saksi Terdakwa memberikan pendapat bahwa keterangan saksi tersebut benar seluruhnya Laila Binti Haliman dibawah sumpah memberikan 4 keterangan yang pada pokoknya sebagai berikut   Bahwa pada hari Kamis tanggal 26 September 2019 sekira pukul 0030 wib di sebuah orgen tunggal yang berada di Desa Ulak Segelung Kec Indralaya Kab Ogan Ilir saksi bersama terdakwa ditangkap oleh polisi karena menjual Narkotika berupa pil ekstasi Bahwa pada awalnya saksi bersama terdakwa sedang menjual pil lik pada saat kami sedang menjual pil ekstasi tersebut datanglah dua anggota Polisi langsung menangkap kami dan melakukan penggeledahan terhadap terdakwa dan saksi yang sedang berdiri di belakang mobil yang terparkir di ub ekstasi di sebuah acara orgen tunggal di Desa Ulak Segelung namun area orgen tunggal golden star Ketika dilakukan penggeledahan terhadap terdakwa Polisi tidak menemukan pil ekstasi tersebut lalu kami dibawa ke Polres OI dan sesampainya disana lalu saksi digeledah oleh seorang Polisi wanita dan ditemukan pil ekstasi berupa 6 enam gold terbungkus plastic klip bening dan 4 empat butir warna cream berbentuk tablet segi empat panjang logo gold terbungkus plastic warna on Halaman 9 dari 19 Halaman Putusan No  5PidSus2020PN Kag d hijau di dalam BH warna hitam sebelah kanan saksi setengah butir warna cream berbentuk tablet segi empat panjang logo Halaman 9 Bahwa 1 satu unit handphone warna merah merk oppo beserta  simcard 3 0895604331314 milik saksi yang dipegang dan uang tunai Rp 2927000 dua juta sembilan ratus dua puluh tujuh ribu rupiah hasil dari terdakwa dan saksi menjual pil ekstasi di dalam kantong kanan celana terdakwa Bahwa kami mendapatkan pil ekstasi tersebut dengan cara membelinya dengan NURLI ALS YENI ALS BONBON di lorong jambu tangga buntung sebanyak 10 butir pil ekstasi warna hijau logo kodok 11 Sembilan ratus dan kami telah menjual pil ekstasi sebanyak 10 sepuluh setengah butir di acara orgen tunggal golden star tersebut Bahwa terdakwa tidak memiliki izin untuk memiliki Narkotika jenis pil ub lik ekstasi tersebut Terhadap keterangan saksi Terdakwa memberikan pendapat bahwa keterangan saksi tersebut benar seluruhnya Menimbang bahwa di persidangan Terdakwa telah memberikan keterangan yang pada pokoknya sebagai berikut   Bahwa pada hari Kamis tanggal 26 September 2019 sekira pukul 0030 wib k butir pil ekstasi warna cream logo gold seharga Rp 3900000 tiga juta di sebuah orgen tunggal yang berada di Desa Ulak Segelung Kec Indralayane Kab Ogan Ilir terdakwa dan saksi Laila ditangkap oleh polisi karena menjual Narkotika berupa pil ekstasi  Bahwa pada awalnya saksi Laila bersama terdakwa sedang menjual pil ekstasi di sebuah acara orgen tunggal di Desa Ulak Segelung namun pada saat kami sedang menjual pil ekstasi tersebut datanglah dua anggota Polisi langsung menangkap kami dan melakukan penggeledahan terhadap terdakwa dan saksi Laila yang sedang berdiri di belakang mobil yang terparkir di area orgen tunggal golden star Ketika dilakukan penggeledahan terhadap lik Polres OI dan sesampainya disana lalu saksi Laila digeledah oleh seorang Polisi wanita dan ditemukan pil ekstasi berupa 6 enam setengah butir ub warna cream berbentuk tablet segi empat panjang logo gold terbungkus plastic klip bening dan 4 empat butir warna cream berbentuk tablet segi empat panjang logo gold terbungkus plastic warna hijau di dalam BH warna hitam sebelah kanan saksi Laila  Bahwa 1 satu unit handphone warna merah merk oppo beserta simcard 3 terdakwa Polisi tidak menemukan pil ekstasi tersebut lalu kami dibawa ke 0895604331314 milik saksi Laila yang dipegang dan uang tunai Rp 2927000 saksi Laila menjual pil ekstasi di dalam kantong kanan celana terdakwa  Bahwa kami mendapatkan pil ekstasi tersebut dengan cara membelinya on Halaman 10 dari 19 Halaman Putusan No  5PidSus2020PN Kag d dengan NURLI ALS YENI ALS BONBON di lorong jambu tangga buntung dua juta sembilan ratus dua puluh tujuh ribu rupiah hasil dari terdakwa dan M Halaman 10 ep sebanyak 10 butir pil ekstasi warna hijau logo kodok 11 butir pil ekstasi warna cream logo gold seharga Rp 3900000 tiga juta Sembilan ratus dan kami telah menjual pil ekstasi sebanyak 10 sepuluh setengah butir di acara orgen tunggal golden star tersebut  Bahwa terdakwa tidak memiliki izin untuk memiliki Narkotika jenis pil ekstasi tersebut Menimbang bahwa Terdakwa tidak mengajukan saksi yang meringankan a de charge Menimbang bahwa kepada Terdakwa telah diperlihatkan barang bukti ub lik  enam setengah butir pil ekstasi warna cream bentuk tablet segi empat panjang logo gold yang dibungkus plastik bening dan 4 empat butir pil ekstasi warna cream bentuk tablet segi empat panjang logo gold yang dibalut plastik hijau dengan berat netto keseluruhan 4112 empat koma satu satu dua Gram 1 satu Buah Bra Warna hitam 1 satu unit handphone warna merah oppo berikut simcard 3 0895604331314 dan Uang tunai sebanyak Rp2927000 dua juta k dalam perkara ini yaitu  10  sepuluh setengah butir pil ekstasi dengan rincian 6 sembilan ratus dua puluh tujuh ribu rupiah di mana Terdakwa menyatakanne mengetahuinya dan membenarkannya Menimbang bahwa dalam berkas perkara telah pula dilampirkan bukti surat berupa Berita Acara Pemeriksaan Laboratoris Kriminalistik Pusat Laboratorium Forensik Polri Cabang Palembang NO LAB  2710NNF2019 tanggal 1 Oktober 2019 yang ditandatangani Kepala Bidang Laboratorium forensik Polda Sumsel Haris Aksara SH pemeriksa 1 I Made Swetra SSiMSi pemeriksa 2 Edhi Suryanto SSiApt MM MT pemeriksa 3 Aliyus Saputra S Kom dengan kesimpulan bahwa BB 1 BB 2 BB 3 BB 4 adalah positif mengandung MDMA yang terdaftar sebagai golongan I satu nomor urut 37 lampiran peraturan Menteri lik Kesehatan RI Nomor 50 tahun 2018 Menimbang bahwa terhadap halhal yang relevan sebagaimana termuat ub termuat dalam putusan ini Menimbang bahwa pada asasnya tidak seorangpun dapat dijatuhi pidana kecuali apabila pengadilan karena alat pembuktian yang sah menurut undang dan tercatat dalam berita acara persidangan diambil alih dan dianggap telah undang mendapat keyakinan bahwa seseorang yang dianggap dapat bertanggung jawab telah bersalah atas perbuatan yang didakwakan atas dirinya Pasal 6 ayat Menimbang bahwa sehubungan dengan hal itu dalam hukum pidana on Halaman 11 dari 19 Halaman Putusan No  5PidSus2020PN Kag d terdapat asas geen straft zonder schuld artinya tiada pidanahukuman tanpa 2 Undang Undang No 48 Tahun 2009 tentang Kekuasaan Kehakiman Halaman 11 ep kesalahan Sejalan dengan asas ini dalam doktrin hukum pidana terdapat apa yang menjadi batasan seseorang bisa dijatuhi pidana sehubungan dengan adalah  strafbaar feit peristiwa pidana Batasan yang menjadi unsur strafbaar feit itu a apakah terbukti bahwa feit telah diwujudkan oleh terdakwa b kalau demikian strafbaar feit mana yang telah diwujudkannya c jikadantersebut telah terbukti maka harus diteliti apakah terdakwa tersebut dapat dipidana strafbaarheid van de dader kalau a b dan c secara hukum terbukti maka Hakim akan ub lik formalnya namun apabila ternyata sebaliknya secara hukum tak terbukti maka demi hukum pula terdakwa harus dibebaskan Menimbang bahwa Penuntut Umum telah menghadapkan di persidangan alat bukti yang sah berupa keterangan 4 empat orang saksi dari Jaksa Penuntut Umum yang mana keterangan Saksisaksi dan terdakwa yang dihadapkan oleh k mempertimbangkan jenis pidana yang hendak dijatuhkan sesuai ketentuan Penuntut Umum tersebut saling bersesuaian satu sama lain yang didukung pula dengan adanya barang bukti dan bukti surat sehingga telah terpenuhi batas berikut ne minimum pembuktian dan dipersidangan telah terbukti faktafakta hukum sebagai  Bahwa benar pada hari Kamis tanggal 26 September 2019 Pukul 0030 wib di sebuah orgen tunggal yang berada di Desa Ulak Segelung Kec Indralaya Kab Ogan Ilir terdakwa dan saksi Laila ditangkap oleh polisi karena menjual Narkotika berupa pil ekstasi  Bahwa benar penangkapan terdakwa bermula ketika saksi Eksa saksi Benny bersama dan anggota lainnya mendapat informasi pada hari Rabu Pukul 1930 wib bahwa di lokasi tersebut yang sedang berlangsung acara lik Eksa saksi Benny bersama anggota Polisi lainnya langsung melakukan penyelidikan ke lokasi tersebut kemudian saat di lokasi kejadian saksi Eksa ub saksi Benny melihat terdakwa dan Sdri Laila yang merupakan istri terdakwa sedang menjual pil ekstasi lalu Pukul 0030 wib saksi Eksa saksi Benny melakukan penggeledahan dan pemeriksaan terhadap terdakwa dan Sdri orgen tunggal ada peredaran Narkotika mendapat informasi tersebut lalu saksi Laila sedang berdiri di belakang mobil yang terparkir di area orgen tunggal golden star Ketika dilakukan penggeledahan terhadap terdakwa tidak dilakukan penggeledahan oleh saksi Eksa saksi Benny untuk selanjutnya on Halaman 12 dari 19 Halaman Putusan No  5PidSus2020PN Kag d terdakwa dan Sdri Laila dibawa ke Polres Ogan Ilir dan selanjutnya Sdri Laila ditemukan barang bukti narkotika kemudian terhadap Sdri Laila tidak Halaman 12 ep digeledah oleh saksi Mella Putriana dan ditemukan pil ekstasi berupa 6 enam setengah butir warna cream berbentuk tablet segi empat panjang logo gold terbungkus plastic klip bening dan 4 empat butir warna cream berbentuk tablet segi empat panjang logo gold terbungkus plastik warna hijau di dalam BH warna hitam sebelah kanan saksi Laila  Bahwa benar pil ekstasi tersebut milik terdakwa bersama saksi Laila yang didapatkan dengan cara membelinya dengan NURLI ALS YENI ALS BONBON di lorong jambu tangga buntung sebanyak 10 butir pil ekstasi warna hijau logo kodok 11 butir pil ekstasi warna cream logo gold seharga Rp 3900000 tiga juta Sembilan ratus dan terdakwa bersama saksi Laila telah menjual pil ub lik ekstasi sebanyak 10 sepuluh setengah butir di acara orgen tunggal golden star tersebut  Bahwa benar terdakwa tidak memiliki izin dari pihak yang berwenang untuk menjual Narkotika jenis pil ekstasi tersebut  Bahwa benar setelah dilakukan pemeriksaan di laboratorium forensik cabang Palembang dengan NO LAB  2710NNF2019 tanggal 1 Oktober k 2019 yang ditandatangani Kepala Bidang Laboratorium forensik Polda Sumsel Haris Aksara SH pemeriksa 1 I Made Swetra SSiMSi pemeriksa 2 Edhine Suryanto SSiApt MM MT pemeriksa 3 Aliyus Saputra S Kom dengan kesimpulan bahwa BB 1 BB 2 BB 3 BB 4 adalah positif mengandung MDMA yang terdaftar sebagai golongan I satu nomor urut 37 lampiran peraturan Menteri Kesehatan RI Nomor 50 tahun 2018 Menimbang bahwa selanjutnya Majelis Hakim akan mempertimbangkan apakah faktafakta hukum tersebut memenuhi unsurunsur dari pasal yang didakwakan Menimbang bahwa Terdakwa telah didakwa oleh Penuntut Umum dengan dakwaan yang berbentuk alternatif sehingga Majelis Hakim dengan lik memperhatikan faktafakta hukum tersebut diatas akan memilih langsung dakwaan ub persidangan yang mana menurut hemat Majelis Hakim yaitu dakwaan alternatif kesatu sebagaimana diatur dalam Pasal 114 ayat 1 Jo Pasal 132 ayat 1 UU RI Nomor 35 Tahun 2009 tentang Narkotika yang unsurunsurnya adalah sebagai yang tepat untuk dibuktikan berdasarkan faktafakta yang terungkap di berikut  1 Setiap Orang melawan hukum menawarkan untuk dijual menjual membeli menerima menjadi perantara dalam jual beli menukar atau menyerahkan Narkotika on Halaman 13 dari 19 Halaman Putusan No  5PidSus2020PN Kag d golongan I dalam bentuk tanaman 2 Melakukan percobaan atau permufakatan jahat secara tanpa hak atau Halaman 13 ep Menimbang bahwa terhadap unsurunsur tersebut Majelis Hakim akan mempertimbangkannya sebagai berikut  Ad 1 Setiap Orang  Menimbang bahwa Setiap orang secara gramatikal maksudnya adalah barang siapa atau siapa saja sebagai subjek hukum yang mampu bertanggung jawab secara hukum dan dapat dipertanggung jawabkan atas segala perbuatannya kecuali UndangUndang mengatakan lain Menimbang bahwa unsur Setiap orang dalam tindakan pidana menunjuk kepada subjek hukum dari peristiwa pidana straafbaar feit dalam hal ub lik dan bukan sebagai badan hukum rechts person yang didakwa melakukan suatu perbuatan pidana sebagaimana yang dimaksud dalam surat dakwaan Penuntut Umum Menimbang bahwa selama dipersidangan telah dihadapkan terdakwa KA Ibrahim Bin KH Abdullah Murod yang identitasnya sebagaimana tersebut dalam k ini manusia pribadi natuurlijke person selaku pendukung hak dan kewajiban surat dakwaan Penuntut Umum tersebut dalam keadaan sehat jasmani dan rohani mampu menjawab semua pertanyaan yang diajukan kepadanya serta cakapne melakukan perbuatan hukum dan dapat dimintai pertanggung jawaban atas perbuatannya sehingga merupakan subjek hukum tersebut Jika hal tersebut dikaitkan dengan fakta hukum yang terungkap dipersidangan yang diperoleh dari keterangan para saksi dan diperkuat dengan keterangan terdakwa dipersidangan bahwa dirinyalah yang dimaksud oleh Penuntut Umum dalam surat dakwaan Penuntut Umum tersebut maka benar adanya bahwa yang dimaksud oleh Penuntut Umum sebagai subjek hukumperson yang didakwa melakukan suatu perbuatan pidana dalam perkara ini adalah terdakwa KA Ibrahim Bin KH Abdullah Murod sehingga dengan demikian unsur  Setiap Orang telah lik terpenuhi Ad 2 Melakukan percobaan atau permufakatan jahat secara tanpa hak atau ub menjadi perantara dalam jual beli menukar atau menyerahkan Narkotika golongan I dalam bentuk tanaman  Menimbang bahwa yang dimaksud dengan percobaan sebagaimana melawan hukum menawarkan untuk dijual menjual membeli menerima dalam penjelasan Pasal 132 ayat 1 Undangundang No 35 Tahun 2009 adalah pelaksanaan bukan sematamata disebabkan kehendaknya sendiri sedangkan yang dimaksud dengan permufakatan jahat sebagaimana dimaksud dalam Pasal on Halaman 14 dari 19 Halaman Putusan No  5PidSus2020PN Kag d 1 angka 18 Undangundang No 35 Tahun 2009 adalah perbuatan dua orang adanya unsurunsur niat adanya permulaan pelaksanaan dan tidak selesainya Halaman 14 ep atau lebih yang bersekongkol atau bersepakat untuk melakukan melaksanakan membantu turut serta melakukan menyuruh menganjurkan memfasilitasi memberi konsultasi menjadi anggota suatu organisasi kejahatan Narkotika atau mengorganisasikan suatu tindak pidana Narkotika  Menimbang bahwa selanjutnya yang dimaksud dengan prekursor narkotika sebagaimana dimaksud dalam Pasal 1 angka 2 Undangundang No 35 Tahun 2009 adalah zat atau bahan pemula atau bahan kimia yang dapat digunakan dalam pembuatan narkotika  Menimbang bahwa unsur ini bersifat alternatif sehingga Majelis Hakim ub lik unsur itu ada kaitannya dengan faktafakta yang terungkap dipersidangan dan apabila sub unsur yang ada kaitannya dengan faktafakta dipersidangan terpenuhi maka dengan dengan sendirinya unsur ke2 ini dianggap terpenuhi pula  Menimbang bahwa pengertian dalam Tanpa Hak dalam Hukum Pidana pada asasnya sama dengan pengertian melawan hukum yang artinya k tidak akan mempertimbangkan setiap sub unsur secara tersendiri kecuali sub bertentangan dengan Hukum atau UndangUndang Istilah Tanpa Hak dalam UU Nomor 35 Tahun 2009 mempunyai pengertian yang lebih khusus lagi yang berartine Tanpa Ijin bahwa ijin tersebut diberikan oleh Menteri Kesehatan RI dan Ijin tersebut hanya diberikan kepada Apotik Dokter Pabrik Farmasi tertentu Pedagang Besar Farmasi Rumah Sakit Lembaga Ilmu Pengetahuan dan Lembaga Pendidikan Menimbang bahwa berdasarkan pasal 13 ayat 1 UU No35 Tahun 2009 menyebutkan bahwa lembaga Ilmu Pengetahuan yang berupa Lembaga Pendidikan dan Pelatihan serta penelitian dan pengembangan yang diselenggarakan oleh pemerintah maupun swasta dapat memperoleh menanam menyimpan dan menggunakan Narkotika dalam rangka kepentingan Ilmu Menimbang bahwa berdasarkan lik Pengetahuan setelah mendapat ijin dari Menteri Kesehatan RI faktafakta dipersidangan dari ub bukti surat maupun barangbarang bukti yang ada menyatakan bahwa pada hari Kamis tanggal 26 September 2019 Pukul 0030 wib di sebuah orgen tunggal yang berada di Desa Ulak Segelung Kec Indralaya Kab Ogan Ilir terdakwa dan saksi keterangan saksisaksi dan dihubungkan dengan keterangan terdakwa serta alat Laila ditangkap oleh polisi karena menjual Narkotika berupa pil ekstasi saksi Benny bersama dan anggota lainnya mendapat informasi pada hari Rabu Pukul 1930 wib bahwa di lokasi tersebut yang sedang berlangsung acara orgen on Halaman 15 dari 19 Halaman Putusan No  5PidSus2020PN Kag d tunggal ada peredaran Narkotika mendapat informasi tersebut lalu saksi Eksa Menimbang bahwa penangkapan terdakwa bermula ketika saksi Eksa Halaman 15 ep saksi Benny bersama anggota Polisi lainnya langsung melakukan penyelidikan ke lokasi tersebut kemudian saat di lokasi kejadian saksi Eksa saksi Benny melihat terdakwa dan Sdri Laila yang merupakan istri terdakwa sedang menjual pil ekstasi lalu Pukul 0030 wib saksi Eksa saksi Benny melakukan penggeledahan dan pemeriksaan terhadap terdakwa dan Sdri Laila sedang berdiri di belakang mobil yang terparkir di area orgen tunggal golden star Ketika dilakukan penggeledahan terhadap terdakwa tidak ditemukan barang bukti narkotika kemudian terhadap Sdri Laila tidak dilakukan penggeledahan oleh saksi Eksa saksi Benny untuk selanjutnya terdakwa dan Sdri Laila dibawa ke Polres Ogan Ilir dan selanjutnya ub lik 6 enam setengah butir warna cream berbentuk tablet segi empat panjang logo gold terbungkus plastic klip bening dan 4 empat butir warna cream berbentuk tablet segi empat panjang logo gold terbungkus plastik warna hijau di dalam BH warna hitam sebelah kanan saksi Laila Menimbang bahwa pil ekstasi tersebut milik terdakwa bersama saksi Laila k Sdri Laila digeledah oleh saksi Mella Putriana dan ditemukan pil ekstasi berupa yang didapatkan dengan cara membelinya dengan NURLI ALS YENI ALS BONBON di lorong jambu tangga buntung sebanyak 10 butir pil ekstasi warnane hijau logo kodok 11 butir pil ekstasi warna cream logo gold seharga Rp 3900000 tiga juta Sembilan ratus dan terdakwa bersama saksi Laila telah menjual pil ekstasi sebanyak 10 sepuluh setengah butir di acara orgen tunggal golden star tersebut Menimbang bahwa terdakwa tidak memiliki izin dari pihak yang berwenang untuk menjual Narkotika jenis pil ekstasi tersebut Menimbang bahwa berdasarkan pemeriksaan di laboratorium forensik cabang Palembang dengan NO LAB  2710NNF2019 tanggal 1 Oktober 2019 yang ditandatangani Kepala Bidang Laboratorium forensik Polda Sumsel Haris lik Aksara SH pemeriksa 1 I Made Swetra SSiMSi pemeriksa 2 Edhi Suryanto SSiApt MM MT pemeriksa 3 Aliyus Saputra S Kom dengan kesimpulan ub sebagai golongan I satu nomor urut 37 lampiran peraturan Menteri Kesehatan RI Nomor 50 tahun 2018 Menimbang bahwa dari uraian pertimbangan diatas Majelis Hakim bahwa BB 1 BB 2 BB 3 BB 4 adalah positif mengandung MDMA yang terdaftar berkesimpulan unsur ini telah dapat dibuktikan pada diri terdakwa  Menimbang bahwa oleh karena semua unsur dari dakwaan alternatif kesatu yaitu Pasal 114 ayat 1 Jo Pasal 132 ayat 1 UU RI Nomor 35 Tahun on Halaman 16 dari 19 Halaman Putusan No  5PidSus2020PN Kag d 2009 tentang Narkotika telah terpenuhi maka Terdakwa haruslah dinyatakan telah Menimbang bahwa dengan demikian unsur ini telah terpenuhi  Halaman 16 ep terbukti secara sah dan meyakinkan bersalah melakukan tindak pidana sebagaimana didakwakan dalam dakwaan Penuntut Umum Menimbang bahwa dalam persidangan Majelis Hakim tidak menemukan halhal yang dapat menghapuskan pertanggungjawaban pidana baik sebagai alasan pembenar dan atau alasan pemaaf maka mempertanggungjawabkan perbuatannya Terdakwa harus Menimbang bahwa oleh karena Terdakwa mampu bertanggung jawab maka haruslah dinyatakan bersalah dan dijatuhi pidana maka kepadanya harus dihukum untuk membayar biaya perkara menurut ketentuan Pasal 222 KUHAP ub lik Menimbang bahwa dalam perkara ini terhadap Terdakwa telah dikenakan penahanan yang sah maka masa penahanan tersebut harus dikurangkan seluruhnya dari pidana yang dijatuhkan sesuai dengan ketentuan yang berlaku berdasarkan Pasal 22 ayat 4 KUHAP Menimbang bahwa oleh karena Terdakwa ditahan dan penahanan k yang besarnya akan ditentukan dalam amar putusan ini terhadap Terdakwa dilandasi alasan yang cukup dan terhadap pidana yang dijatuhkan lebih lama dari masa penahanan yang telah dijalani oleh Terdakwane maka berdasarkan Pasal 193 ayat 2 subKUHAP maka perlu ditetapkan agar Terdakwa tetap berada dalam tahanan Menimbang bahwa mengenai status barang bukti dalam perkara ini Majelis Hakim sependapat dengan Tuntutan dari Penuntut Umum maka demikian akan ditetapkan dalam amar putusan ini Menimbang bahwa untuk menjatuhkan pidana terhadap Terdakwa maka perlu dipertimbangkan terlebih dahulu keadaan yang memberatkan dan yang meringankan Terdakwa sesuai dengan ketentuan Pasal 197 ayat 1 huruf f KUHAP lik  Perbuatan Terdakwa sangat bertentangan dengan program pemerintah ub yang sedang giatgiatnya memberantas penyalahgunaan Narkotika  Perbuatan Terdakwa meresahkan masyarakat Keadaan yang meringankan   Terdakwa mengakui dan menyesali perbuatannya  Terdakwa bersikap sopan selama di persidangan Keadaan yang memberatkan  UU RI Nomor 35 Tahun 2009 tentang Narkotika dan UU No 8 Tahun 1981 tentang on Halaman 17 dari 19 Halaman Putusan No  5PidSus2020PN Kag d KUHAP serta peraturan hukum lain yang bersangkutan  Mengingat dan memperhatikan Pasal 114 ayat 1 Jo Pasal 132 ayat 1 Halaman 17 ep MENGADILI 1 Menyatakan Terdakwa KA Ibrahim Bin KH Abdullah Murod telah terbukti sah dan secara meyakinkan bersalah melakukan tindak pidana Permufakatan jahat tanpa hak dan melawan hukum menjual Narkotika golongan I bukan Tanaman 2 Menjatuhkan pidana kepada Terdakwa KA Ibrahim Bin KH Abdullah Murod oleh karena itu dengan pidana penjara selama 7 tujuh Tahun serta pidana denda sebesar Rp 1000000000 satu miliar rupiah apabila pidana denda tersebut tidak dibayar maka diganti dengan pidana penjara selama 3 ub lik tiga Bulan 3 Menetapkan masa penangkapan dan masa penahanan yang telah dijalani oleh Terdakwa dikurangkan seluruhnya dari pidana yang dijatuhkan 4 Menetapkan Terdakwa tetap ditahan 5 Menetapkan barang bukti berupa  10  sepuluh setengah butir pil ekstasi dengan rincian 6  enam k  setengah butir pil ekstasi warna cream bentuk tablet segi empat panjang logo gold yang dibungkus plastik bening dan 4 empat butir pil ekstasine warna cream bentuk tablet segi empat panjang logo gold yang dibalut plastik hijau dengan berat netto keseluruhan 4112 empat koma satu satu dua Gram 1 satu Buah Bra Warna hitam 1 satu unit handphone warna merah oppo berikut simcard 3 0895604331314 masingmasing dirampas untuk dimusnahkan Uang tunai sebanyak Rp2927000 dua juta sembilan ratus dua puluh tujuh ribu rupiah dirampas untuk Negara 6 Membebankan kepada Terdakwa untuk membayar biaya perkara sebesa Rp 2000 dua ribu rupiah lik Demikianlah diputuskan dalam Rapat Permusyawaratan Majelis Hakim ub Eddy Daulatta Sembiring SH MH sebagai Hakim Ketua Majelis Lina Safitri Tazili SH dan Firman Jaya SH masingmasing sebagai Hakim Anggota Putusan tersebut diucapkan dalam sidang yang terbuka untuk umum pada hari itu juga oleh Pengadilan Negeri Kayu Agung pada hari Kamis tanggal 16 April 2020 oleh kami Hakim Ketua Majelis tersebut didampingi Hakim  Hakim Anggota yang sama dibantu oleh Rosi Kurniady SH Panitera Pengganti pada Pengadilan Negeri Kayuagung dihadiri oleh Berly Yasa Gautama SH Jaksa Penuntut Umum pada on Hakim Ketua Majelis Halaman 18 dari 19 Halaman Putusan No  5PidSus2020PN Kag d Hakim  Hakim Anggota Kejaksaan Negeri Ogan Ilir serta dihadapan Terdakwa Halaman 18 ep Lina Safitri Tazili SH Eddy Daulatta Sembiring SH MH Firman Jaya SH Panitera Pengganti on Halaman 19 dari 19 Halaman Putusan No  5PidSus2020PN Kag d ub liknek ub lik Rosi Kurniady SH Halaman 19']"
      ]
     },
     "execution_count": 33,
     "metadata": {},
     "output_type": "execute_result"
    }
   ],
   "source": [
    "# Tokenization: Split the text into sentences and words\n",
    "from nltk.tokenize import sent_tokenize, word_tokenize\n",
    "\n",
    "# Tokenize the cleaned documents into sentences\n",
    "tokenized_sentences = [sent_tokenize(text) for text in cleaned_texts]\n",
    "\n",
    "# Apply word tokenization to each sentence\n",
    "tokenized_words = [[word_tokenize(sentence) for sentence in doc] for doc in tokenized_sentences]"
   ]
  },
  {
   "cell_type": "code",
   "execution_count": 34,
   "id": "a8ccd132",
   "metadata": {},
   "outputs": [
    {
     "data": {
      "text/plain": [
       "['ep P U T U SN Nomor 5PidSus2020PN Kag DEMI KEADILAN BERDASARKAN KETUHANAN YANG MAHA ESA Pengadilan Negeri Kayuagung yang mengadili perkara pidana dengan acara pemeriksaan biasa dalam tingkat pertama menjatuhkan putusan sebagai berikut dalam perkara Terdakwa  Tempat lahir  Palembang UmurTanggal lahir  34 Tahun  24 April 1985 Jenis kelamin  Lakilaki Kebangsaan  Indonesia Tempat tinggal  Jl Tangga Takat No 1029 Rt 17 Rw 07 Kel Tangga ub lik  KA Ibrahim Bin KH Abdullah Murod Nama lengkap  Islam Pekerjaan  Belum Bekerja Pendidikan  SMA tidak tamatne Agama k Takat Kec Seberang Ulu II Kota Palembang Terdakwa KA Ibrahim Bin KH Abdullah Murod ditangkap pada tanggal 26 September 2019 dan ditahan dalam rumah tahanan negara oleh  1 Penyidik sejak tanggal 28 September 2019 sampai dengan tanggal 18 Oktober 2019 2 Penyidik Perpanjangan Oleh Penuntut Umum sejak tanggal 19 Oktober 2019 sampai dengan tanggal 27 November 2019 3 Penuntut Umum sejak tanggal 26 November 2019 sampai dengan tanggal lik sejak tanggal 13 Desember 2019 sampai dengan tanggal 11 Januari 2020 5 Hakim Pengadilan Negeri sejak tanggal 7 Januari 2020 sampai dengan ub tanggal 5 Februari 2020 6 Hakim Pengadilan Negeri Perpanjangan oleh Ketua Pengadilan Negeri Kayu Agung sejak tanggal 6 Februari 2020 sampai dengan tanggal 5 April 2020 15 Desember 2019 4 Penuntut Umum Perpanjangan Pertama Oleh Ketua Pengadilan Negeri 7 Hakim Pengadilan Negeri Perpanjangan pertama oleh Ketua Pengadilan mempergunakan haknya untuk didampingi oleh Penasihat Hukum meskipun kepadanya telah diberitahukan tentang haknya untuk on Halaman 1 dari 19 Halaman Putusan No  5PidSus2020PN Kag d didampingi penasihat hukum Terdakwa tidak Tinggi Palembang sejak tanggal 6 April 2020 sampai dengan 5 Mei 2020 Halaman 1 ep Pengadilan Negeri tersebut  Setelah membaca  Ketua Pengadilan Negeri Kayuagung  Penetapan Nomor  5PidSus2020PN Kag tanggal 7 Januari 2020 tentang Penunjukan Majelis Hakim  Penetapan Majelis Hakim Nomor  5PidSus2020PN Kag tanggal 7 Januari 2020 tentang Penetapan Hari Sidang  Berkas perkara dan suratsurat lain yang bersangkutan Setelah mendengar keterangan Saksisaksi dan Terdakwa serta ub lik Setelah mendengar pembacaan tuntutan pidana yang diajukan oleh Penuntut Umum yang pada pokoknya sebagai berikut  1 Menyatakan terdakwa KA IBRAHIM BIN KH ABDULLAH MUROD telah memperhatikan barang bukti yang diajukan oleh Penuntut Umum di persidangan terbukti secara sah dan meyakinkan bersalah melakukan tindak pidana Permufakatan jahat untuk melakukan tindak pidana tanpa hak menjual k Narkotika Golongan I bukan tanaman sebagaimana diatur dalam Dakwaanne tentang Narkotika Kesatu Pasal 114 Ayat 1 Jo Pasal 132 Ayat 1 UU Nomor 35 Tahun 2009 2 Menjatuhkan pidana Penjara kepada terdakwa selama 8 Delapan Tahun dikurangi selama terdakwa berada dalam tahanan sementara dengan perintah agar terdakwa tetap ditahan 3 Membebankan kepada terdakwa untuk membayar denda sebesar Rp 1000000000 Satu Milyar Rupiah dengan ketentuan apabila denda tidak dibayar maka diganti dengan pidana penjara selama 6 Enam Bulan 4 Menyatakan barang bukti berupa   10  sepuluh setengah butir pil ekstasi dengan rincian 6  enam lik setengah butir Pil ekstasi warna cream bentuk tablet segi empat panjang logo gold yang dibungkus plastik bening dan 4 butir pil ekstasi warna cream bentuk tablet segi empat panjang logo gold yang dibalut plastik 5 Menetapkan terdakwa dibebani untuk membayar biaya perkara sebesar Rp on Halaman 2 dari 19 Halaman Putusan No  5PidSus2020PN Kag d 2000 dua ribu rupiah puluh tujuh ribu rupiah Dirampas untuk Negara ub hijau dengan berat netto keseluruhan 4112 Gram 1 satu Buah Bra Warna hitam 1 satu unit handphone warna merah oppo berikut simcard Dirampas untuk dimusnahkan Uang tunai sebanyak Rp 2927000 dua juta sembilan ratus dua Halaman 2 mendengar permohonan Terdakwa yang Setelah pada pokoknya menyatakan Terdakwa memohon agar dijatuhkan hukuman yang seringan ringannya  Setelah mendengar tanggapan Penuntut Umum terhadap permohonan Terdakwa yang pada pokoknya tetap pada tuntutannya  Menimbang bahwa Terdakwa diajukan ke persidangan oleh Penuntut Umum dengan surat dakwaan sebagai berikut  DAKWAAN Bahwa terdakwa KA IBRAHIM BIN KH ABDULLAH MUROD pada hari ub lik Kamis tanggal 26 September 2019 sekira jam 0030 Wib atau setidaktidaknya pada suatu waktu dalam bulan September Tahun 2019 atau setidaktidaknya masih dalam tahun 2019 bertempat di Desa Ulak Segelung Kecamatan Indralaya Kabupaten Ogan Ilir atau setidaktidaknya disuatu tempat yang masih termasuk dalam daerah Hukum Pengadilan Negeri Kayuagung yang berwenang memeriksa k KESATU dan mengadili perkara pidana ini percobaan atau permufakatan jahat untuk melakukan tindak pidana Narkotika tanpa hak atau melawan hukum menawarkanne untuk dijual menjual membeli menerima menjadi perantara dalam jual beli menukar atau menyerahkan Narkotika golongan I satu jenis pil ekstasi perbuatan mana dilakukan terdakwa dengan cara sebagai berikut Bahwa bermula pada hari Rabu tanggal 25 September 2019 sekira pukul 1930 wib saksi Eksa Mahyudi saksi Benny Wiryadi anggota Sat Res Narkoba mendapatkan informasi dari masyarakat bahwa ada acara orgen tunggal Golden Star di Desa Ulak Segelung Kecamatan Indralaya Kabupaten Ogan Ilir yang mana di acara tersebut ada peredaran gelap narkotika jenis ekstasi Lalu sekira pukul 2300 wib saksi Eksa Mahyudi dan saksi Benny Wiryadi melakukan penyelidikan di lik orgen tunggal golden star sekira pukul 0000 wib saksi Eksa Mahyudi dan saksi Benny Wiryadi melihat terdakwa dan saksi Laila yang merupakan istri terdakwa ub Kamis tanggal 26 September 2019 Sekira pukul 0030 wib saksi Eksa Mahyudi dan saksi Benny Wiryadi melakukan penggeledahan dan pemeriksaan terhadap terdakwa dan saksi Laila sedang berdiri di belakang mobil yang terparkir di area berkas penuntutan terpisah sedang menjual pil ekstasi Kemudian pada hari orgen tunggal golden star Ketika dilakukan penggeledahan terhadap terdakwa penggeledahan oleh saksi Eksa Mahyudi dan saksi Benny Wiryadi Selanjutnya terdakwa dan saksi Laila dibawa ke Polres Ogan Ilir sempai di Polres Ogan Ilir on Halaman 3 dari 19 Halaman Putusan No  5PidSus2020PN Kag d sekira pukul 0110 wib saksi Laila digeledah oleh Polisi Wanita yaitu saksi Mella tidak ditemukan barang bukti narkotika dan Saksi Laila tidak dilakukan M Halaman 3 ep Putriana dan ditemukan pil ekstasi berupa 6 enam setengah butir warna cream berbentuk tablet segi empat panjang logo gold terbungkus plastic klip bening dan 4 empat butir warna cream berbentuk tablet segi empat panjang logo gold terbungkus plastic warna hijau di dalam BH warna hitam sebelah kanan dan barang bukti yang ditemukan yaitu 1 satu unit handphone warna merah merk oppo beserta simcard 3 0895604331314 milik saksi Laila yang dipegang tangan kanan saksi Laila uang tunai Rp2927000 dua juta Sembilan ratus dua puluh tujuh ribu rupiah hasil dari terdakwa dan saksi Laila menjual pil ekstasi di dalam Bahwa terdakwa membeli pil ekstasi dengan NURLI ALS YENI ALS ub lik BONBON di lorong jambu tangga buntung pada hari Rabu tanggal 25 September 2019 sekira pukul 1500 wib sebanyak 10 butir pil ekstasi warna hijau logo kodok 11 butir pil ekstasi warna cream logo gold seharga Rp3900000 tiga juta Sembilan ratus kemudian terdakwa telah menjual pil ekstasi sebanyak 10 sepuluh setengah di acara orgen tunggal golden star k kantong kanan celana terdakwa Bahwa berdasarkan berita acara pemeriksaan laboratorium forensic nomo 2710NNF2019 tanggal 1 Oktober 2019 yang ditandatangani Kepala Bidangne Laboratorium forensic Polda Sumsel Haris Aksara SH pemeriksa 1 I Made Swetra SSiMSi pemeriksa 2 Edhi Suryanto SSiApt MM MT pemeriksa 3 Aliyus Saputra S Kom dengan kesimpulan bahwa BB 1 BB 2 BB 3 BB 4 adalah positif mengandung MDMA yang terdaftar sebagai golongan I satu nomor urut 37 lampiran peraturan Menteri Kesehatan RI No 50 tahun 2018 Bahwa perbuatan terdakwa dalam menawarkan untuk dijual menjual membeli menerima menjadi perantara dalam jual beli menukar atau menyerahkan Narkotika golongan I satu bukan tanaman tersebut adalah tanpa Perbuatan terdakwa sebagaimana diatur dan diancam Pidana dalam Pasal lik seizin dari pihak yang berwenang 114 ayat 1 Jo Pasal 132 ayat 1 UU RI No 35 Tahun 2009 Tentang Narkotika ub KEDUA Bahwa terdakwa KA IBRAHIM BIN KH ABDULLAH MUROD pada hari Kamis tanggal 26 September 2019 sekira jam 0030 Wib atau setidaktidaknya ATAU pada suatu waktu dalam bulan September Tahun 2019 atau setidaktidaknya Kabupaten Ogan Ilir atau setidaktidaknya disuatu tempat yang masih termasuk dalam daerah Hukum Pengadilan Negeri Kayuagung yang berwenang memeriksa on Halaman 4 dari 19 Halaman Putusan No  5PidSus2020PN Kag d dan mengadili perkara pidana ini percobaan atau permufakatan jahat untuk masih dalam tahun 2019 bertempat di Desa Ulak Segelung Kecamatan Indralaya Halaman 4 ep melakukan tindak pidana Narkotika secara tanpa hak atau melawan hukum memiliki menyimpan atau menyediakan Narkotika Golongan 1 bukan tanaman jenis sabu perbuatan mana dilakukan terdakwa dengan cara sebagai berikut  Bahwa bermula pada hari Rabu tanggal 25 September 2019 sekira pukul 1930 wib saksi Eksa Mahyudi saksi Benny Wiryadi anggota Sat Res Narkoba mendapatkan informasi dari masyarakat bahwa ada acara orgen tunggal Golden Star di Desa Ulak Segelung Kecamatan Indralaya Kabupaten Ogan Ilir yang mana di acara tersebut ada peredaran gelap narkotika jenis ekstasi Lalu sekira pukul 2300 wib saksi Eksa Mahyudi dan saksi Benny Wiryadi melakukan penyelidikan di ub lik Benny Wiryadi melihat terdakwa dan saksi Laila yang merupakan istri terdakwa berkas penuntutan terpisah sedang menjual pil ekstasi Kemudian pada hari Kamis tanggal 26 September 2019 Sekira pukul 0030 wib saksi Eksa Mahyudi dan saksi Benny Wiryadi melakukan penggeledahan dan pemeriksaan terhadap terdakwa dan saksi Laila sedang berdiri di belakang mobil yang terparkir di area k orgen tunggal golden star sekira pukul 0000 wib saksi Eksa Mahyudi dan saksi orgen tunggal golden star Ketika dilakukan penggeledahan terhadap terdakwa tidak ditemukan barang bukti narkotika dan Saksi Laila tidak dilakukanne penggeledahan oleh saksi Eksa Mahyudi dan saksi Benny Wiryadi Selanjutnya terdakwa dan saksi Laila dibawa ke Polres Ogan Ilir sempai di Polres Ogan Ilir sekira pukul 0110 wib saksi Laila digeledah oleh Polisi Wanita yaitu saksi Mella Putriana dan ditemukan pil ekstasi berupa 6 enam setengah butir warna cream berbentuk tablet segi empat panjang logo gold terbungkus plastic klip bening dan 4 empat butir warna cream berbentuk tablet segi empat panjang logo gold terbungkus plastic warna hijau di dalam BH warna hitam sebelah kanan dan barang bukti yang ditemukan yaitu 1 satu unit handphone warna merah merk oppo beserta simcard 3 0895604331314 milik saksi Laila yang dipegang tangan lik kanan saksi Laila uang tunai Rp2927000 dua juta Sembilan ratus dua puluh tujuh ribu rupiah hasil dari terdakwa dan saksi Laila menjual pil ekstasi di dalam ub Bahwa berdasarkan berita acara pemeriksaan laboratorium forensic nomo 2710NNF2019 tanggal 1 Oktober 2019 yang ditandatangani Kepala Bidang Laboratorium forensic Polda Sumsel Haris Aksara SH pemeriksa 1 I Made Swetra kantong kanan celana terdakwa SSiMSi pemeriksa 2 Edhi Suryanto SSiApt MM MT pemeriksa 3 Aliyus mengandung MDMA yang terdaftar sebagai golongan I satu nomor urut 37 on Halaman 5 dari 19 Halaman Putusan No  5PidSus2020PN Kag d lampiran peraturan Menteri Kesehatan RI No 50 tahun 2018 Saputra S Kom dengan kesimpulan bahwa BB 1 BB 2 BB 3 BB 4 adalah positif Halaman 5 ep membeli menerima Bahwa perbuatan terdakwa dalam menawarkan untuk dijual menjual menjadi perantara dalam jual beli menukar atau menyerahkan Narkotika golongan I satu bukan tanaman tersebut adalah tanpa seizin dari pihak yang berwenang Perbuatan terdakwa sebagaimana diatur dan diancam Pidana dalam Pasal 112 ayat 1 Jo Pasal 132 ayat 1 UU RI No 35 Tahun 2009 Tentang Narkotika Menimbang bahwa terhadap dakwaan Penuntut Umum Terdakwa tidak Menimbang bahwa untuk membuktikan dakwaannya Penuntut Umum ub lik telah mengajukan saksisaksi sebagai berikut  1 Eksa Mahyudi dibawah sumpah memberikan keterangan yang pada pokoknya sebagai berikut   mengajukan keberatan Bahwa pada hari Kamis tanggal 26 September 2019 sekira pukul 0030 wib di sebuah orgen tunggal yang berada di Desa Ulak Segelung k Kec Indralaya Kab Ogan Ilir saksi bersama anggota polisi lainnya menangkap terdakwa karena menjual Narkotika berupa pil ekstasi Bahwa pada awalnya saksi bersama dan anggota lainnya mendapatne informasi pada hari Rabu sekira Pukul 1930 wib bahwa di lokasi tersebut yang sedang berlangsung acara orgen tunggal ada peredaran Narkotika mendapat informasi tersebut lalu saksi bersama anggota Polisi lainnya langsung melakukan penyelidikan ke lokasi tersebut kemudian saat di lokasi kejadian saksi dan saksi Benny Wiryadi melihat terdakwa dan Sdri Laila yang merupakan istri terdakwa sedang menjual pil ekstasi lalu sekira Pukul 0030 wib saksi dan saksi Benny Wiryadi melakukan penggeledahan dan pemeriksaan terhadap terdakwa dan Sdri Laila sedang berdiri di lik dilakukan penggeledahan terhadap terdakwa tidak ditemukan barang bukti narkotika kemudian terhadap Sdri Laila tidak dilakukan penggeledahan oleh saksi dan saksi Benny Wiryadi untuk selanjutnya terdakwa dan Sdri ub belakang mobil yang terparkir di area orgen tunggal golden star Ketika Laila dibawa ke Polres Ogan Ilir dan selanjutnya Sdri Laila digeledah oleh saksi Mella Putriana dan ditemukan pil ekstasi berupa 6 enam setengah butir warna cream berbentuk tablet segi empat panjang logo gold terbungkus plastic klip bening dan 4 empat butir warna cream hijau di dalam BH warna hitam sebelah kanan Bahwa 1 satu unit handphone warna merah merk oppo beserta on Halaman 6 dari 19 Halaman Putusan No  5PidSus2020PN Kag d simcard 3 0895604331314 milik Sdri Laila yang dipegang tangan kanan berbentuk tablet segi empat panjang logo gold terbungkus plastic warna Halaman 6 ep Sdri Laila dan uang tunai Rp 2927000 dua juta sembilan ratus dua puluh tujuh ribu rupiah hasil dari terdakwa dan Sdri Laila menjual pil ekstasi di dalam kantong kanan celana terdakwa Bahwa setelah kami tanyakan kepada terdakwa terdakwa menerangkan bahwa terdakwa membeli pil ekstasi dengan NURLI ALS YENI ALS BONBON di lorong jambu tangga buntung sebanyak 10 butir pil ekstasi warna hijau logo kodok 11 butir pil ekstasi warna cream logo gold menjual pil ekstasi sebanyak 10 sepuluh setengah butir di acara orgen tunggal golden star tersebut Bahwa terdakwa tidak memiliki izin untuk memiliki Narkotika jenis pil ub lik seharga Rp 3900000 tiga juta Sembilan ratus dan terdakwa telah ekstasi tersebut Terhadap keterangan saksi Terdakwa memberikan pendapat bahwa keterangan saksi tersebut benar seluruhnya 2 Benny Wiryadi dibawah sumpah memberikan keterangan yang pada k  pokoknya sebagai berikut  Bahwa pada hari Kamis tanggal 26 September 2019 sekira pukul 0030 wib di sebuah orgen tunggal yang berada di Desa Ulak Segelungne Kec Indralaya Kab Ogan Ilir saksi bersama anggota polisi lainnya menangkap terdakwa karena menjual Narkotika berupa pil ekstasi Bahwa pada awalnya saksi bersama dan anggota lainnya mendapat informasi pada hari Rabu sekira Pukul 1930 wib bahwa di lokasi tersebut yang sedang berlangsung acara orgen tunggal ada peredaran Narkotika mendapat informasi tersebut lalu saksi bersama anggota Polisi lainnya langsung melakukan penyelidikan ke lokasi tersebut kemudian saat di lokasi kejadian saksi dan saksi Eksa melihat terdakwa dan Sdri Laila yang merupakan istri terdakwa sedang menjual pil ekstasi lalu sekira Pukul lik pemeriksaan terhadap terdakwa dan Sdri Laila sedang berdiri di belakang mobil yang terparkir di area orgen tunggal golden star Ketika dilakukan penggeledahan terhadap terdakwa tidak ditemukan barang bukti narkotika ub 0030 wib saksi dan saksi Eksa melakukan penggeledahan dan kemudian terhadap Sdri Laila tidak dilakukan penggeledahan oleh saksi dan saksi Eksa untuk selanjutnya terdakwa dan Sdri Laila dibawa ke Polres Ogan Ilir dan selanjutnya Sdri Laila digeledah oleh saksi Mella Putriana dan ditemukan pil ekstasi berupa 6 enam setengah butir on Halaman 7 dari 19 Halaman Putusan No  5PidSus2020PN Kag d plastic klip bening dan 4 empat butir warna cream berbentuk tablet segi warna cream berbentuk tablet segi empat panjang logo gold terbungkus Halaman 7 ep empat panjang logo gold terbungkus plastic warna hijau di dalam BH warna hitam sebelah kanan Bahwa 1 satu unit handphone warna merah merk oppo beserta simcard 3 0895604331314 milik Sdri Laila yang dipegang tangan kanan Sdri Laila dan uang tunai Rp 2927000 dua juta sembilan ratus dua puluh tujuh ribu rupiah hasil dari terdakwa dan Sdri Laila menjual pil terdakwa terdakwa menerangkan bahwa terdakwa membeli pil ekstasi dengan NURLI ALS YENI ALS BONBON di lorong jambu tangga buntung sebanyak 10 butir pil ekstasi warna hijau logo kodok 11 butir pil ekstasi warna cream logo gold ub lik ekstasi di dalam kantong kanan celana terdakwa Bahwa setelah kami tanyakan kepada seharga Rp 3900000 tiga juta Sembilan ratus dan terdakwa telah menjual pil ekstasi sebanyak 10 sepuluh setengah butir di acara orgen tunggal golden star tersebut Bahwa terdakwa tidak memiliki izin untuk memiliki Narkotika jenis pil k ekstasi tersebut Terhadap keterangan saksi Terdakwa memberikan pendapat bahwa keterangan saksi tersebut benar seluruhnya Bahwa pada hari Kamis tanggal 26 September 2019 sekira pukul ne sebagai berikut  3 Mella dibawah sumpah memberikan keterangan yang pada pokoknya 0030 wib di sebuah orgen tunggal yang berada di Desa Ulak Segelung Kec Indralaya Kab Ogan Ilir saksi bersama anggota polisi lainnya menangkap terdakwa karena menjual Narkotika berupa pil ekstasi Bahwa pada awalnya saksi bersama dan anggota lainnya mendapat informasi pada hari Rabu sekira Pukul 1930 wib bahwa di lokasi tersebut yang sedang berlangsung acara orgen tunggal ada peredaran Narkotika lik langsung melakukan penyelidikan ke lokasi tersebut kemudian saat di lokasi kejadian saksi Eksa dan saksi Benny melihat terdakwa dan Sdri Laila yang merupakan istri terdakwa sedang menjual pil ekstasi lalu sekira ub mendapat informasi tersebut lalu saksi bersama anggota Polisi lainnya Pukul 0030 wib saksi Eksa dan saksi Benny melakukan penggeledahan dan pemeriksaan terhadap terdakwa dan Sdri Laila sedang berdiri di belakang mobil yang terparkir di area orgen tunggal golden star Ketika dilakukan penggeledahan terhadap terdakwa tidak ditemukan barang bukti oleh saksi Eksa dan saksi Benny untuk selanjutnya terdakwa dan Sdri Laila dibawa ke Polres Ogan Ilir dan selanjutnya Sdri Laila digeledah oleh on Halaman 8 dari 19 Halaman Putusan No  5PidSus2020PN Kag d saksi dan ditemukan pil ekstasi berupa 6 enam setengah butir warna narkotika kemudian terhadap Sdri Laila tidak dilakukan penggeledahan Halaman 8 ep cream berbentuk tablet segi empat panjang logo gold terbungkus plastic klip bening dan 4 empat butir warna cream berbentuk tablet segi empat panjang logo gold terbungkus plastic warna hijau di dalam BH warna hitam sebelah kanan Bahwa 1 satu unit handphone warna merah merk oppo beserta simcard 3 0895604331314 milik Sdri Laila yang dipegang tangan kanan Sdri Laila dan uang tunai Rp 2927000 dua juta sembilan ratus dua ekstasi di dalam kantong kanan celana terdakwa Bahwa setelah kami tanyakan kepada terdakwa terdakwa menerangkan bahwa terdakwa membeli pil ekstasi dengan NURLI ALS ub lik puluh tujuh ribu rupiah hasil dari terdakwa dan Sdri Laila menjual pil YENI ALS BONBON di lorong jambu tangga buntung sebanyak 10 butir pil ekstasi warna hijau logo kodok 11 butir pil ekstasi warna cream logo gold seharga Rp 3900000 tiga juta Sembilan ratus dan terdakwa telah menjual pil ekstasi sebanyak 10 sepuluh setengah butir di acara orgen k tunggal golden star tersebut Bahwa terdakwa tidak memiliki izin untuk memiliki Narkotika jenis pilne ekstasi tersebut Terhadap keterangan saksi Terdakwa memberikan pendapat bahwa keterangan saksi tersebut benar seluruhnya Laila Binti Haliman dibawah sumpah memberikan 4 keterangan yang pada pokoknya sebagai berikut   Bahwa pada hari Kamis tanggal 26 September 2019 sekira pukul 0030 wib di sebuah orgen tunggal yang berada di Desa Ulak Segelung Kec Indralaya Kab Ogan Ilir saksi bersama terdakwa ditangkap oleh polisi karena menjual Narkotika berupa pil ekstasi Bahwa pada awalnya saksi bersama terdakwa sedang menjual pil lik pada saat kami sedang menjual pil ekstasi tersebut datanglah dua anggota Polisi langsung menangkap kami dan melakukan penggeledahan terhadap terdakwa dan saksi yang sedang berdiri di belakang mobil yang terparkir di ub ekstasi di sebuah acara orgen tunggal di Desa Ulak Segelung namun area orgen tunggal golden star Ketika dilakukan penggeledahan terhadap terdakwa Polisi tidak menemukan pil ekstasi tersebut lalu kami dibawa ke Polres OI dan sesampainya disana lalu saksi digeledah oleh seorang Polisi wanita dan ditemukan pil ekstasi berupa 6 enam gold terbungkus plastic klip bening dan 4 empat butir warna cream berbentuk tablet segi empat panjang logo gold terbungkus plastic warna on Halaman 9 dari 19 Halaman Putusan No  5PidSus2020PN Kag d hijau di dalam BH warna hitam sebelah kanan saksi setengah butir warna cream berbentuk tablet segi empat panjang logo Halaman 9 Bahwa 1 satu unit handphone warna merah merk oppo beserta  simcard 3 0895604331314 milik saksi yang dipegang dan uang tunai Rp 2927000 dua juta sembilan ratus dua puluh tujuh ribu rupiah hasil dari terdakwa dan saksi menjual pil ekstasi di dalam kantong kanan celana terdakwa Bahwa kami mendapatkan pil ekstasi tersebut dengan cara membelinya dengan NURLI ALS YENI ALS BONBON di lorong jambu tangga buntung sebanyak 10 butir pil ekstasi warna hijau logo kodok 11 Sembilan ratus dan kami telah menjual pil ekstasi sebanyak 10 sepuluh setengah butir di acara orgen tunggal golden star tersebut Bahwa terdakwa tidak memiliki izin untuk memiliki Narkotika jenis pil ub lik ekstasi tersebut Terhadap keterangan saksi Terdakwa memberikan pendapat bahwa keterangan saksi tersebut benar seluruhnya Menimbang bahwa di persidangan Terdakwa telah memberikan keterangan yang pada pokoknya sebagai berikut   Bahwa pada hari Kamis tanggal 26 September 2019 sekira pukul 0030 wib k butir pil ekstasi warna cream logo gold seharga Rp 3900000 tiga juta di sebuah orgen tunggal yang berada di Desa Ulak Segelung Kec Indralayane Kab Ogan Ilir terdakwa dan saksi Laila ditangkap oleh polisi karena menjual Narkotika berupa pil ekstasi  Bahwa pada awalnya saksi Laila bersama terdakwa sedang menjual pil ekstasi di sebuah acara orgen tunggal di Desa Ulak Segelung namun pada saat kami sedang menjual pil ekstasi tersebut datanglah dua anggota Polisi langsung menangkap kami dan melakukan penggeledahan terhadap terdakwa dan saksi Laila yang sedang berdiri di belakang mobil yang terparkir di area orgen tunggal golden star Ketika dilakukan penggeledahan terhadap lik Polres OI dan sesampainya disana lalu saksi Laila digeledah oleh seorang Polisi wanita dan ditemukan pil ekstasi berupa 6 enam setengah butir ub warna cream berbentuk tablet segi empat panjang logo gold terbungkus plastic klip bening dan 4 empat butir warna cream berbentuk tablet segi empat panjang logo gold terbungkus plastic warna hijau di dalam BH warna hitam sebelah kanan saksi Laila  Bahwa 1 satu unit handphone warna merah merk oppo beserta simcard 3 terdakwa Polisi tidak menemukan pil ekstasi tersebut lalu kami dibawa ke 0895604331314 milik saksi Laila yang dipegang dan uang tunai Rp 2927000 saksi Laila menjual pil ekstasi di dalam kantong kanan celana terdakwa  Bahwa kami mendapatkan pil ekstasi tersebut dengan cara membelinya on Halaman 10 dari 19 Halaman Putusan No  5PidSus2020PN Kag d dengan NURLI ALS YENI ALS BONBON di lorong jambu tangga buntung dua juta sembilan ratus dua puluh tujuh ribu rupiah hasil dari terdakwa dan M Halaman 10 ep sebanyak 10 butir pil ekstasi warna hijau logo kodok 11 butir pil ekstasi warna cream logo gold seharga Rp 3900000 tiga juta Sembilan ratus dan kami telah menjual pil ekstasi sebanyak 10 sepuluh setengah butir di acara orgen tunggal golden star tersebut  Bahwa terdakwa tidak memiliki izin untuk memiliki Narkotika jenis pil ekstasi tersebut Menimbang bahwa Terdakwa tidak mengajukan saksi yang meringankan a de charge Menimbang bahwa kepada Terdakwa telah diperlihatkan barang bukti ub lik  enam setengah butir pil ekstasi warna cream bentuk tablet segi empat panjang logo gold yang dibungkus plastik bening dan 4 empat butir pil ekstasi warna cream bentuk tablet segi empat panjang logo gold yang dibalut plastik hijau dengan berat netto keseluruhan 4112 empat koma satu satu dua Gram 1 satu Buah Bra Warna hitam 1 satu unit handphone warna merah oppo berikut simcard 3 0895604331314 dan Uang tunai sebanyak Rp2927000 dua juta k dalam perkara ini yaitu  10  sepuluh setengah butir pil ekstasi dengan rincian 6 sembilan ratus dua puluh tujuh ribu rupiah di mana Terdakwa menyatakanne mengetahuinya dan membenarkannya Menimbang bahwa dalam berkas perkara telah pula dilampirkan bukti surat berupa Berita Acara Pemeriksaan Laboratoris Kriminalistik Pusat Laboratorium Forensik Polri Cabang Palembang NO LAB  2710NNF2019 tanggal 1 Oktober 2019 yang ditandatangani Kepala Bidang Laboratorium forensik Polda Sumsel Haris Aksara SH pemeriksa 1 I Made Swetra SSiMSi pemeriksa 2 Edhi Suryanto SSiApt MM MT pemeriksa 3 Aliyus Saputra S Kom dengan kesimpulan bahwa BB 1 BB 2 BB 3 BB 4 adalah positif mengandung MDMA yang terdaftar sebagai golongan I satu nomor urut 37 lampiran peraturan Menteri lik Kesehatan RI Nomor 50 tahun 2018 Menimbang bahwa terhadap halhal yang relevan sebagaimana termuat ub termuat dalam putusan ini Menimbang bahwa pada asasnya tidak seorangpun dapat dijatuhi pidana kecuali apabila pengadilan karena alat pembuktian yang sah menurut undang dan tercatat dalam berita acara persidangan diambil alih dan dianggap telah undang mendapat keyakinan bahwa seseorang yang dianggap dapat bertanggung jawab telah bersalah atas perbuatan yang didakwakan atas dirinya Pasal 6 ayat Menimbang bahwa sehubungan dengan hal itu dalam hukum pidana on Halaman 11 dari 19 Halaman Putusan No  5PidSus2020PN Kag d terdapat asas geen straft zonder schuld artinya tiada pidanahukuman tanpa 2 Undang Undang No 48 Tahun 2009 tentang Kekuasaan Kehakiman Halaman 11 ep kesalahan Sejalan dengan asas ini dalam doktrin hukum pidana terdapat apa yang menjadi batasan seseorang bisa dijatuhi pidana sehubungan dengan adalah  strafbaar feit peristiwa pidana Batasan yang menjadi unsur strafbaar feit itu a apakah terbukti bahwa feit telah diwujudkan oleh terdakwa b kalau demikian strafbaar feit mana yang telah diwujudkannya c jikadantersebut telah terbukti maka harus diteliti apakah terdakwa tersebut dapat dipidana strafbaarheid van de dader kalau a b dan c secara hukum terbukti maka Hakim akan ub lik formalnya namun apabila ternyata sebaliknya secara hukum tak terbukti maka demi hukum pula terdakwa harus dibebaskan Menimbang bahwa Penuntut Umum telah menghadapkan di persidangan alat bukti yang sah berupa keterangan 4 empat orang saksi dari Jaksa Penuntut Umum yang mana keterangan Saksisaksi dan terdakwa yang dihadapkan oleh k mempertimbangkan jenis pidana yang hendak dijatuhkan sesuai ketentuan Penuntut Umum tersebut saling bersesuaian satu sama lain yang didukung pula dengan adanya barang bukti dan bukti surat sehingga telah terpenuhi batas berikut ne minimum pembuktian dan dipersidangan telah terbukti faktafakta hukum sebagai  Bahwa benar pada hari Kamis tanggal 26 September 2019 Pukul 0030 wib di sebuah orgen tunggal yang berada di Desa Ulak Segelung Kec Indralaya Kab Ogan Ilir terdakwa dan saksi Laila ditangkap oleh polisi karena menjual Narkotika berupa pil ekstasi  Bahwa benar penangkapan terdakwa bermula ketika saksi Eksa saksi Benny bersama dan anggota lainnya mendapat informasi pada hari Rabu Pukul 1930 wib bahwa di lokasi tersebut yang sedang berlangsung acara lik Eksa saksi Benny bersama anggota Polisi lainnya langsung melakukan penyelidikan ke lokasi tersebut kemudian saat di lokasi kejadian saksi Eksa ub saksi Benny melihat terdakwa dan Sdri Laila yang merupakan istri terdakwa sedang menjual pil ekstasi lalu Pukul 0030 wib saksi Eksa saksi Benny melakukan penggeledahan dan pemeriksaan terhadap terdakwa dan Sdri orgen tunggal ada peredaran Narkotika mendapat informasi tersebut lalu saksi Laila sedang berdiri di belakang mobil yang terparkir di area orgen tunggal golden star Ketika dilakukan penggeledahan terhadap terdakwa tidak dilakukan penggeledahan oleh saksi Eksa saksi Benny untuk selanjutnya on Halaman 12 dari 19 Halaman Putusan No  5PidSus2020PN Kag d terdakwa dan Sdri Laila dibawa ke Polres Ogan Ilir dan selanjutnya Sdri Laila ditemukan barang bukti narkotika kemudian terhadap Sdri Laila tidak Halaman 12 ep digeledah oleh saksi Mella Putriana dan ditemukan pil ekstasi berupa 6 enam setengah butir warna cream berbentuk tablet segi empat panjang logo gold terbungkus plastic klip bening dan 4 empat butir warna cream berbentuk tablet segi empat panjang logo gold terbungkus plastik warna hijau di dalam BH warna hitam sebelah kanan saksi Laila  Bahwa benar pil ekstasi tersebut milik terdakwa bersama saksi Laila yang didapatkan dengan cara membelinya dengan NURLI ALS YENI ALS BONBON di lorong jambu tangga buntung sebanyak 10 butir pil ekstasi warna hijau logo kodok 11 butir pil ekstasi warna cream logo gold seharga Rp 3900000 tiga juta Sembilan ratus dan terdakwa bersama saksi Laila telah menjual pil ub lik ekstasi sebanyak 10 sepuluh setengah butir di acara orgen tunggal golden star tersebut  Bahwa benar terdakwa tidak memiliki izin dari pihak yang berwenang untuk menjual Narkotika jenis pil ekstasi tersebut  Bahwa benar setelah dilakukan pemeriksaan di laboratorium forensik cabang Palembang dengan NO LAB  2710NNF2019 tanggal 1 Oktober k 2019 yang ditandatangani Kepala Bidang Laboratorium forensik Polda Sumsel Haris Aksara SH pemeriksa 1 I Made Swetra SSiMSi pemeriksa 2 Edhine Suryanto SSiApt MM MT pemeriksa 3 Aliyus Saputra S Kom dengan kesimpulan bahwa BB 1 BB 2 BB 3 BB 4 adalah positif mengandung MDMA yang terdaftar sebagai golongan I satu nomor urut 37 lampiran peraturan Menteri Kesehatan RI Nomor 50 tahun 2018 Menimbang bahwa selanjutnya Majelis Hakim akan mempertimbangkan apakah faktafakta hukum tersebut memenuhi unsurunsur dari pasal yang didakwakan Menimbang bahwa Terdakwa telah didakwa oleh Penuntut Umum dengan dakwaan yang berbentuk alternatif sehingga Majelis Hakim dengan lik memperhatikan faktafakta hukum tersebut diatas akan memilih langsung dakwaan ub persidangan yang mana menurut hemat Majelis Hakim yaitu dakwaan alternatif kesatu sebagaimana diatur dalam Pasal 114 ayat 1 Jo Pasal 132 ayat 1 UU RI Nomor 35 Tahun 2009 tentang Narkotika yang unsurunsurnya adalah sebagai yang tepat untuk dibuktikan berdasarkan faktafakta yang terungkap di berikut  1 Setiap Orang melawan hukum menawarkan untuk dijual menjual membeli menerima menjadi perantara dalam jual beli menukar atau menyerahkan Narkotika on Halaman 13 dari 19 Halaman Putusan No  5PidSus2020PN Kag d golongan I dalam bentuk tanaman 2 Melakukan percobaan atau permufakatan jahat secara tanpa hak atau Halaman 13 ep Menimbang bahwa terhadap unsurunsur tersebut Majelis Hakim akan mempertimbangkannya sebagai berikut  Ad 1 Setiap Orang  Menimbang bahwa Setiap orang secara gramatikal maksudnya adalah barang siapa atau siapa saja sebagai subjek hukum yang mampu bertanggung jawab secara hukum dan dapat dipertanggung jawabkan atas segala perbuatannya kecuali UndangUndang mengatakan lain Menimbang bahwa unsur Setiap orang dalam tindakan pidana menunjuk kepada subjek hukum dari peristiwa pidana straafbaar feit dalam hal ub lik dan bukan sebagai badan hukum rechts person yang didakwa melakukan suatu perbuatan pidana sebagaimana yang dimaksud dalam surat dakwaan Penuntut Umum Menimbang bahwa selama dipersidangan telah dihadapkan terdakwa KA Ibrahim Bin KH Abdullah Murod yang identitasnya sebagaimana tersebut dalam k ini manusia pribadi natuurlijke person selaku pendukung hak dan kewajiban surat dakwaan Penuntut Umum tersebut dalam keadaan sehat jasmani dan rohani mampu menjawab semua pertanyaan yang diajukan kepadanya serta cakapne melakukan perbuatan hukum dan dapat dimintai pertanggung jawaban atas perbuatannya sehingga merupakan subjek hukum tersebut Jika hal tersebut dikaitkan dengan fakta hukum yang terungkap dipersidangan yang diperoleh dari keterangan para saksi dan diperkuat dengan keterangan terdakwa dipersidangan bahwa dirinyalah yang dimaksud oleh Penuntut Umum dalam surat dakwaan Penuntut Umum tersebut maka benar adanya bahwa yang dimaksud oleh Penuntut Umum sebagai subjek hukumperson yang didakwa melakukan suatu perbuatan pidana dalam perkara ini adalah terdakwa KA Ibrahim Bin KH Abdullah Murod sehingga dengan demikian unsur  Setiap Orang telah lik terpenuhi Ad 2 Melakukan percobaan atau permufakatan jahat secara tanpa hak atau ub menjadi perantara dalam jual beli menukar atau menyerahkan Narkotika golongan I dalam bentuk tanaman  Menimbang bahwa yang dimaksud dengan percobaan sebagaimana melawan hukum menawarkan untuk dijual menjual membeli menerima dalam penjelasan Pasal 132 ayat 1 Undangundang No 35 Tahun 2009 adalah pelaksanaan bukan sematamata disebabkan kehendaknya sendiri sedangkan yang dimaksud dengan permufakatan jahat sebagaimana dimaksud dalam Pasal on Halaman 14 dari 19 Halaman Putusan No  5PidSus2020PN Kag d 1 angka 18 Undangundang No 35 Tahun 2009 adalah perbuatan dua orang adanya unsurunsur niat adanya permulaan pelaksanaan dan tidak selesainya Halaman 14 ep atau lebih yang bersekongkol atau bersepakat untuk melakukan melaksanakan membantu turut serta melakukan menyuruh menganjurkan memfasilitasi memberi konsultasi menjadi anggota suatu organisasi kejahatan Narkotika atau mengorganisasikan suatu tindak pidana Narkotika  Menimbang bahwa selanjutnya yang dimaksud dengan prekursor narkotika sebagaimana dimaksud dalam Pasal 1 angka 2 Undangundang No 35 Tahun 2009 adalah zat atau bahan pemula atau bahan kimia yang dapat digunakan dalam pembuatan narkotika  Menimbang bahwa unsur ini bersifat alternatif sehingga Majelis Hakim ub lik unsur itu ada kaitannya dengan faktafakta yang terungkap dipersidangan dan apabila sub unsur yang ada kaitannya dengan faktafakta dipersidangan terpenuhi maka dengan dengan sendirinya unsur ke2 ini dianggap terpenuhi pula  Menimbang bahwa pengertian dalam Tanpa Hak dalam Hukum Pidana pada asasnya sama dengan pengertian melawan hukum yang artinya k tidak akan mempertimbangkan setiap sub unsur secara tersendiri kecuali sub bertentangan dengan Hukum atau UndangUndang Istilah Tanpa Hak dalam UU Nomor 35 Tahun 2009 mempunyai pengertian yang lebih khusus lagi yang berartine Tanpa Ijin bahwa ijin tersebut diberikan oleh Menteri Kesehatan RI dan Ijin tersebut hanya diberikan kepada Apotik Dokter Pabrik Farmasi tertentu Pedagang Besar Farmasi Rumah Sakit Lembaga Ilmu Pengetahuan dan Lembaga Pendidikan Menimbang bahwa berdasarkan pasal 13 ayat 1 UU No35 Tahun 2009 menyebutkan bahwa lembaga Ilmu Pengetahuan yang berupa Lembaga Pendidikan dan Pelatihan serta penelitian dan pengembangan yang diselenggarakan oleh pemerintah maupun swasta dapat memperoleh menanam menyimpan dan menggunakan Narkotika dalam rangka kepentingan Ilmu Menimbang bahwa berdasarkan lik Pengetahuan setelah mendapat ijin dari Menteri Kesehatan RI faktafakta dipersidangan dari ub bukti surat maupun barangbarang bukti yang ada menyatakan bahwa pada hari Kamis tanggal 26 September 2019 Pukul 0030 wib di sebuah orgen tunggal yang berada di Desa Ulak Segelung Kec Indralaya Kab Ogan Ilir terdakwa dan saksi keterangan saksisaksi dan dihubungkan dengan keterangan terdakwa serta alat Laila ditangkap oleh polisi karena menjual Narkotika berupa pil ekstasi saksi Benny bersama dan anggota lainnya mendapat informasi pada hari Rabu Pukul 1930 wib bahwa di lokasi tersebut yang sedang berlangsung acara orgen on Halaman 15 dari 19 Halaman Putusan No  5PidSus2020PN Kag d tunggal ada peredaran Narkotika mendapat informasi tersebut lalu saksi Eksa Menimbang bahwa penangkapan terdakwa bermula ketika saksi Eksa Halaman 15 ep saksi Benny bersama anggota Polisi lainnya langsung melakukan penyelidikan ke lokasi tersebut kemudian saat di lokasi kejadian saksi Eksa saksi Benny melihat terdakwa dan Sdri Laila yang merupakan istri terdakwa sedang menjual pil ekstasi lalu Pukul 0030 wib saksi Eksa saksi Benny melakukan penggeledahan dan pemeriksaan terhadap terdakwa dan Sdri Laila sedang berdiri di belakang mobil yang terparkir di area orgen tunggal golden star Ketika dilakukan penggeledahan terhadap terdakwa tidak ditemukan barang bukti narkotika kemudian terhadap Sdri Laila tidak dilakukan penggeledahan oleh saksi Eksa saksi Benny untuk selanjutnya terdakwa dan Sdri Laila dibawa ke Polres Ogan Ilir dan selanjutnya ub lik 6 enam setengah butir warna cream berbentuk tablet segi empat panjang logo gold terbungkus plastic klip bening dan 4 empat butir warna cream berbentuk tablet segi empat panjang logo gold terbungkus plastik warna hijau di dalam BH warna hitam sebelah kanan saksi Laila Menimbang bahwa pil ekstasi tersebut milik terdakwa bersama saksi Laila k Sdri Laila digeledah oleh saksi Mella Putriana dan ditemukan pil ekstasi berupa yang didapatkan dengan cara membelinya dengan NURLI ALS YENI ALS BONBON di lorong jambu tangga buntung sebanyak 10 butir pil ekstasi warnane hijau logo kodok 11 butir pil ekstasi warna cream logo gold seharga Rp 3900000 tiga juta Sembilan ratus dan terdakwa bersama saksi Laila telah menjual pil ekstasi sebanyak 10 sepuluh setengah butir di acara orgen tunggal golden star tersebut Menimbang bahwa terdakwa tidak memiliki izin dari pihak yang berwenang untuk menjual Narkotika jenis pil ekstasi tersebut Menimbang bahwa berdasarkan pemeriksaan di laboratorium forensik cabang Palembang dengan NO LAB  2710NNF2019 tanggal 1 Oktober 2019 yang ditandatangani Kepala Bidang Laboratorium forensik Polda Sumsel Haris lik Aksara SH pemeriksa 1 I Made Swetra SSiMSi pemeriksa 2 Edhi Suryanto SSiApt MM MT pemeriksa 3 Aliyus Saputra S Kom dengan kesimpulan ub sebagai golongan I satu nomor urut 37 lampiran peraturan Menteri Kesehatan RI Nomor 50 tahun 2018 Menimbang bahwa dari uraian pertimbangan diatas Majelis Hakim bahwa BB 1 BB 2 BB 3 BB 4 adalah positif mengandung MDMA yang terdaftar berkesimpulan unsur ini telah dapat dibuktikan pada diri terdakwa  Menimbang bahwa oleh karena semua unsur dari dakwaan alternatif kesatu yaitu Pasal 114 ayat 1 Jo Pasal 132 ayat 1 UU RI Nomor 35 Tahun on Halaman 16 dari 19 Halaman Putusan No  5PidSus2020PN Kag d 2009 tentang Narkotika telah terpenuhi maka Terdakwa haruslah dinyatakan telah Menimbang bahwa dengan demikian unsur ini telah terpenuhi  Halaman 16 ep terbukti secara sah dan meyakinkan bersalah melakukan tindak pidana sebagaimana didakwakan dalam dakwaan Penuntut Umum Menimbang bahwa dalam persidangan Majelis Hakim tidak menemukan halhal yang dapat menghapuskan pertanggungjawaban pidana baik sebagai alasan pembenar dan atau alasan pemaaf maka mempertanggungjawabkan perbuatannya Terdakwa harus Menimbang bahwa oleh karena Terdakwa mampu bertanggung jawab maka haruslah dinyatakan bersalah dan dijatuhi pidana maka kepadanya harus dihukum untuk membayar biaya perkara menurut ketentuan Pasal 222 KUHAP ub lik Menimbang bahwa dalam perkara ini terhadap Terdakwa telah dikenakan penahanan yang sah maka masa penahanan tersebut harus dikurangkan seluruhnya dari pidana yang dijatuhkan sesuai dengan ketentuan yang berlaku berdasarkan Pasal 22 ayat 4 KUHAP Menimbang bahwa oleh karena Terdakwa ditahan dan penahanan k yang besarnya akan ditentukan dalam amar putusan ini terhadap Terdakwa dilandasi alasan yang cukup dan terhadap pidana yang dijatuhkan lebih lama dari masa penahanan yang telah dijalani oleh Terdakwane maka berdasarkan Pasal 193 ayat 2 subKUHAP maka perlu ditetapkan agar Terdakwa tetap berada dalam tahanan Menimbang bahwa mengenai status barang bukti dalam perkara ini Majelis Hakim sependapat dengan Tuntutan dari Penuntut Umum maka demikian akan ditetapkan dalam amar putusan ini Menimbang bahwa untuk menjatuhkan pidana terhadap Terdakwa maka perlu dipertimbangkan terlebih dahulu keadaan yang memberatkan dan yang meringankan Terdakwa sesuai dengan ketentuan Pasal 197 ayat 1 huruf f KUHAP lik  Perbuatan Terdakwa sangat bertentangan dengan program pemerintah ub yang sedang giatgiatnya memberantas penyalahgunaan Narkotika  Perbuatan Terdakwa meresahkan masyarakat Keadaan yang meringankan   Terdakwa mengakui dan menyesali perbuatannya  Terdakwa bersikap sopan selama di persidangan Keadaan yang memberatkan  UU RI Nomor 35 Tahun 2009 tentang Narkotika dan UU No 8 Tahun 1981 tentang on Halaman 17 dari 19 Halaman Putusan No  5PidSus2020PN Kag d KUHAP serta peraturan hukum lain yang bersangkutan  Mengingat dan memperhatikan Pasal 114 ayat 1 Jo Pasal 132 ayat 1 Halaman 17 ep MENGADILI 1 Menyatakan Terdakwa KA Ibrahim Bin KH Abdullah Murod telah terbukti sah dan secara meyakinkan bersalah melakukan tindak pidana Permufakatan jahat tanpa hak dan melawan hukum menjual Narkotika golongan I bukan Tanaman 2 Menjatuhkan pidana kepada Terdakwa KA Ibrahim Bin KH Abdullah Murod oleh karena itu dengan pidana penjara selama 7 tujuh Tahun serta pidana denda sebesar Rp 1000000000 satu miliar rupiah apabila pidana denda tersebut tidak dibayar maka diganti dengan pidana penjara selama 3 ub lik tiga Bulan 3 Menetapkan masa penangkapan dan masa penahanan yang telah dijalani oleh Terdakwa dikurangkan seluruhnya dari pidana yang dijatuhkan 4 Menetapkan Terdakwa tetap ditahan 5 Menetapkan barang bukti berupa  10  sepuluh setengah butir pil ekstasi dengan rincian 6  enam k  setengah butir pil ekstasi warna cream bentuk tablet segi empat panjang logo gold yang dibungkus plastik bening dan 4 empat butir pil ekstasine warna cream bentuk tablet segi empat panjang logo gold yang dibalut plastik hijau dengan berat netto keseluruhan 4112 empat koma satu satu dua Gram 1 satu Buah Bra Warna hitam 1 satu unit handphone warna merah oppo berikut simcard 3 0895604331314 masingmasing dirampas untuk dimusnahkan Uang tunai sebanyak Rp2927000 dua juta sembilan ratus dua puluh tujuh ribu rupiah dirampas untuk Negara 6 Membebankan kepada Terdakwa untuk membayar biaya perkara sebesa Rp 2000 dua ribu rupiah lik Demikianlah diputuskan dalam Rapat Permusyawaratan Majelis Hakim ub Eddy Daulatta Sembiring SH MH sebagai Hakim Ketua Majelis Lina Safitri Tazili SH dan Firman Jaya SH masingmasing sebagai Hakim Anggota Putusan tersebut diucapkan dalam sidang yang terbuka untuk umum pada hari itu juga oleh Pengadilan Negeri Kayu Agung pada hari Kamis tanggal 16 April 2020 oleh kami Hakim Ketua Majelis tersebut didampingi Hakim  Hakim Anggota yang sama dibantu oleh Rosi Kurniady SH Panitera Pengganti pada Pengadilan Negeri Kayuagung dihadiri oleh Berly Yasa Gautama SH Jaksa Penuntut Umum pada on Hakim Ketua Majelis Halaman 18 dari 19 Halaman Putusan No  5PidSus2020PN Kag d Hakim  Hakim Anggota Kejaksaan Negeri Ogan Ilir serta dihadapan Terdakwa Halaman 18 ep Lina Safitri Tazili SH Eddy Daulatta Sembiring SH MH Firman Jaya SH Panitera Pengganti on Halaman 19 dari 19 Halaman Putusan No  5PidSus2020PN Kag d ub liknek ub lik Rosi Kurniady SH Halaman 19']"
      ]
     },
     "execution_count": 34,
     "metadata": {},
     "output_type": "execute_result"
    }
   ],
   "source": [
    "# Show the first 5 tokenized sentences of the first document\n",
    "tokenized_sentences[0][:500]  # Display the first 5 sentences from the first document"
   ]
  },
  {
   "cell_type": "code",
   "execution_count": 38,
   "id": "e8072fac",
   "metadata": {},
   "outputs": [
    {
     "name": "stdout",
     "output_type": "stream",
     "text": [
      "1\n",
      "500\n"
     ]
    }
   ],
   "source": [
    "print(len(tokenized_sentences[0][:500]))\n",
    "print(len(cleaned_texts[0][:500]))"
   ]
  },
  {
   "cell_type": "code",
   "execution_count": 40,
   "id": "db10b128",
   "metadata": {},
   "outputs": [],
   "source": [
    "# Step 3: Stemming and Stopword Removal\n",
    "from nltk.corpus import stopwords\n",
    "stopwords_list = set(stopwords.words('indonesian'))  # Add custom stopwords if necessary\n",
    "\n",
    "def remove_stopwords(tokens):\n",
    "    return [word for word in tokens if word not in stopwords_list]\n"
   ]
  },
  {
   "cell_type": "code",
   "execution_count": 41,
   "id": "ff8c4a19",
   "metadata": {},
   "outputs": [
    {
     "ename": "NameError",
     "evalue": "name 'simple_tokenize_words' is not defined",
     "output_type": "error",
     "traceback": [
      "\u001b[31m---------------------------------------------------------------------------\u001b[39m",
      "\u001b[31mNameError\u001b[39m                                 Traceback (most recent call last)",
      "\u001b[36mCell\u001b[39m\u001b[36m \u001b[39m\u001b[32mIn[41]\u001b[39m\u001b[32m, line 4\u001b[39m\n\u001b[32m      2\u001b[39m processed_sentences = []\n\u001b[32m      3\u001b[39m \u001b[38;5;28;01mfor\u001b[39;00m sentence \u001b[38;5;129;01min\u001b[39;00m sentences:\n\u001b[32m----> \u001b[39m\u001b[32m4\u001b[39m     tokens = \u001b[43msimple_tokenize_words\u001b[49m(sentence)\n\u001b[32m      5\u001b[39m     tokens = apply_sastrawi_stemming(tokens)\n\u001b[32m      6\u001b[39m     tokens = remove_stopwords(tokens)\n",
      "\u001b[31mNameError\u001b[39m: name 'simple_tokenize_words' is not defined"
     ]
    }
   ],
   "source": [
    "# Apply stemming and stopword removal\n",
    "processed_sentences = []\n",
    "for sentence in sentences:\n",
    "    tokens = simple_tokenize_words(sentence)\n",
    "    tokens = apply_sastrawi_stemming(tokens)\n",
    "    tokens = remove_stopwords(tokens)\n",
    "    processed_sentences.append(' '.join(tokens))"
   ]
  },
  {
   "cell_type": "code",
   "execution_count": null,
   "id": "f503c68f",
   "metadata": {},
   "outputs": [],
   "source": []
  },
  {
   "cell_type": "code",
   "execution_count": null,
   "id": "7a974ccf",
   "metadata": {},
   "outputs": [],
   "source": [
    "import re\n",
    "from Sastrawi.Stemmer.StemmerFactory import StemmerFactory\n",
    "from nltk.tokenize import sent_tokenize, word_tokenize\n",
    "from nltk.corpus import stopwords"
   ]
  },
  {
   "cell_type": "code",
   "execution_count": null,
   "id": "e95f361b",
   "metadata": {},
   "outputs": [],
   "source": []
  },
  {
   "cell_type": "code",
   "execution_count": null,
   "id": "4f1e2dc0",
   "metadata": {},
   "outputs": [],
   "source": []
  },
  {
   "cell_type": "code",
   "execution_count": null,
   "id": "ff49554b",
   "metadata": {},
   "outputs": [],
   "source": [
    "# xx"
   ]
  },
  {
   "cell_type": "code",
   "execution_count": 10,
   "id": "ff11b4b3",
   "metadata": {},
   "outputs": [],
   "source": [
    "# Initialize the Sastrawi stemmer\n",
    "factory = StemmerFactory()\n",
    "stemmer = factory.create_stemmer()\n"
   ]
  },
  {
   "cell_type": "code",
   "execution_count": 11,
   "id": "f49ebf6d",
   "metadata": {},
   "outputs": [],
   "source": [
    "# Text cleaning function: remove headers, footers, and irrelevant symbols\n",
    "def clean_text(text):\n",
    "    # Remove extra spaces, newline characters and special characters like digits\n",
    "    text = re.sub(r'\\s+', ' ', text)\n",
    "    text = re.sub(r'[^A-Za-z0-9\\s]+', '', text)\n",
    "    return text.strip()\n",
    "\n",
    "# Tokenize sentences from the document\n",
    "def tokenize_sentences(text):\n",
    "    return sent_tokenize(text)\n",
    "\n",
    "# Function to apply stemming\n",
    "def apply_stemming(tokens):\n",
    "    return [stemmer.stem(word) for word in tokens]\n",
    "\n",
    "# Function to remove stopwords from the text\n",
    "def remove_stopwords(tokens):\n",
    "    stop_words = set(stopwords.words('indonesian'))\n",
    "    return [word for word in tokens if word.lower() not in stop_words]"
   ]
  },
  {
   "cell_type": "code",
   "execution_count": 12,
   "id": "1d835d11",
   "metadata": {},
   "outputs": [
    {
     "data": {
      "text/plain": [
       "['putus nomor 374pidsus2017pn sim adil dasar tuhan maha esa adil negeri simalungun adil perkara pidana acara periksa tingkat jatuh putus perkara dakwa 2 lahir dosin 3 umurtanggal lahir 3923 januari 1978 4 jenis kelamin lakilaki 5 bangsa indonesia 6 tinggal kampung nagori maligas bayu kec ub lik surianto alias gundol 1 nama lengkap 7 agama islam 8 kerja wiraswasta k huta bayu raja kabupaten simalungunne dakwa tangkap sidik tanggal 10 april 2017 tanggal 12 april 2017 dakwa surianto alias gundol tahan tahan rutan 1 sidik tanggal 13 april 2017 tanggal 2 mei 2017 dakwa surianto alias gundol tahan tahan rutan 2 sidik tuntut tanggal 3 mei 2017 tanggal 11 juni 2017 dakwa surianto alias gundol tahan tahan rutan lik juni 2017 tanggal 11 juli 2017 dakwa surianto alias gundol tahan tahan rutan ub 4 sidik ketua adil negeri tanggal 12 juli 2017 tanggal 10 agustus 2017 dakwa surianto alias gundol tahan tahan rutan 5 tuntut tanggal 10 agustus 2017 tanggal 29 agustus 2017 6 hakim adil negeri tanggal 23 agustus 2017 on halaman 1 21 putus nomor 374pidsus2017pn sim d tanggal 21 september 2017 dakwa surianto alias gundol tahan tahan rutan 3 sidik ketua adil negeri tanggal 12 halaman 1 7 hakim adil negeri ketua adil negeri tanggal 22 september 2017 tanggal 20 november 2017 damping prodeo antoni sumihar dakwa purba sh advokatpenasihat hukum dasar majelis hakim no 374 pen pid 2017 pn sim adil negeri baca ketua adil negeri simalungun ub lik nomor 374pidsus2017pn sim tanggal 23 agustus 2017 majelis hakim majelis hakim nomor 374pidsus2017pn sim tanggal 24 agustus 2017 sidang k berkas perkara suratsurat sangkut dengar terang saksisaksi dakwa sertane perhati bukti surat barang bukti aju sidang dengar baca tuntut pidana aju tuntut pokok 1 nyata dakwa surianto alias gundol bukti salah laku tindak pidana hak lawan hukum tawar jual jual beli terima jual beli tukar serah narkotika golong i berat 5 gram dakwa jaksa tuntut 2 jatuh pidana hadap dakwa surianto alias gundol pidana penjara 6 enam ub dakwa tahan perintah dakwa tahan denda rp10000000000 miliyar rupiah denda bayar ganti pidana penjara 3 1 bungkus plastik bening isi 28 puluh delapan butir tablet warna hijau duga narkotika jenis ekstasi berat kotor on 818 gram berat bersih 798 gram sesuai berita 3 nyata barang bukti upa halaman 2 21 putus nomor 374pidsus2017pn sim d acara musnah barang bukti polisi republik lik narkotika dakwa pasal 114 ayat 2 uu ri no35 2009 halaman 2 indonesia resor simalungun 18 delapan belas butir jenis ekstasi musnah sisa barang bukti 10 puluh butir bukti sidang 1 buah kotak rokok merk dunhil warna merah 1 lembar kertas tissu 1 unit hp merk nokia warna putih rampas musnah 4 1 unit sepeda motor merk honda beat warna putih bk 3969 hf rampas negara dakwa bayar biaya perkara rp5000 ub lik ribu rupiah dengar mohon dakwa pokok nyata salah mohon ringan hukum dengar tanggap tuntut hadap mohon dakwa pokok tuntut k dengar tanggap dakwa hadap tanggap tuntut pokok mohon dakwa aju sidang olehne timbang tuntut dakwa dasar surat dakwa dakwa dakwa surianto alias gundol kamis tanggal 06 april 2017 sekira 2330 wib setidaktidaknya april 2017 setidaktidaknya 2017 kampung keling lurah dagang lik masuk daerah hukum adil negeri simalungun hak lawan hukum tawar jual jual beli terima ub ii camat bandar kabupaten simalungun setidaktidaknya jual beli tukar serah narkotika golong i 5 gram laku berat dakwa caracara marudut nababan saksi syarif noor solin saksi fernando nababan saksi heri candra siregar on anggota polres simalungun informasi masyarakat saksi kamis tanggal 06 april 2017 sekira 2100 wib halaman 3 21 putus nomor 374pidsus2017pn sim d layak percaya daerah kampung keling halaman 3 lurah dagang ii camat bandar kabupaten simalungun penyalahgunaan narkotika jual beli narkotika ekstasi dasar informasi saksisaksi berangkat tuju lokasi maksud laku under cover saksi heri chandra siregar buy beli selubung hadap bandar jual narkotika jenis ekstasi mes narkotika jenis ekstasi janji temu pinggir jalan kampung keling lurah dagang ii camat bandar kabupaten simalungun sekira 2330 wib orang lakilaki ub lik kendara 1 unit sepeda motor saksi heri chandra siregar laku samar rekan sembunyi lakilaki narkotika duga narkotika jenis ekstasi saksi heri chandra siregar langsung k laku tangkap bantu saksi laku tangkap hadap lakilaki tersebutne hasil tangkap laku introgasi lakilaki tangkap nama surianto alias gundol temu barang bukti upa 1 buah kotak rokok merk dunhill warna merah risi lembar tissue bungkus plastik bening isi 28 puluh delapan tablet warna hijau duga narkotika jenis ekstasi 1 unit handpone merk nokia warna putih 1 unit sepeda motor merk honda beat warna putih bk 3969 hf alat transportasi lik dakwa surianto als gundol dakwa jual beli narkotika dakwa suruh iwan keling daftar cari orang narkotika duga ub saksisaksi mengintrogasi dakwa surianto alias gundol ekstasi bel informasi dakwa surianto als gundol laku cari hadap iwan keling rumah diam saksisaksi hasil temu on halaman 4 21 putus nomor 374pidsus2017pn sim d dakwa saksisaksi bawa dakwa surianto als gundol halaman 4 izin wenang jual beli terima jual beli tukar serah narkotika saksisaksi serah dakwa barang bukti sat narkoba polres simalungun proses sesuai hukum laku dasar berita acara timbang perum gadai pematang siantar no16410040002017 tanggal 07 april 2017 tanda tangan suripto pimpin cabang pt gadai persero pematang siantar hasil timbang ub lik barang bukti nama surianto alias gundol upa 1 buah plastik bening isi 28 puluh delapan butir duga narkotika jenis ekstasi berat kotor 818 delapan koma delapan belas gram berat bersih 798 tujuh koma sembilan puluh delapan gram berita acara periksa laboratoris no267adiv2017balai lab k narkoba tanggal 17 april 2017 1 maimunah ssi msi 2 rieska dwi widayati laboratorium narkoba badanne narkotika nasional simpul periksa barang bukti milik dakwa kandung metamfetamina daftar golong i nomor urut 61 lampir i undang undang republik indonesia nomor 35 2009 narkotika dakwa atur ancam pidana pasal 114 ayat 2 undangundang ri no 35 2009 lik ub narkotika dakwa surianto alias gundol kamis tanggal 06 april 2017 sekira 2330 wib setidaktidaknya april 2017 setidaktidaknya dagang 2017 kampung keling lurah ii camat bandar kabupaten simalungun daerah hukum adil negeri lawan hukum milik simalungun simpan hak kuasa on setidaktidaknya masuk halaman 5 21 putus nomor 374pidsus2017pn sim d sedia narkotika golong i tanam berat halaman 5 5 gram laku dakwa caracara kamis tanggal 06 april 2017 sekira 2100 wib marudut nababan saksi syarif noor solin saksi saksi fernando nababan saksi heri candra siregar anggota polres simalungun informasi masyarakat layak percaya daerah kampung keling lurah dagang ii camat bandar kabupaten simalungun ub lik penyalahgunaan narkotika jual beli narkotika ekstasi dasar informasi saksisaksi berangkat tuju lokasi maksud laku under cover saksi heri chandra siregar buy beli selubung hadap bandar jual narkotika jenis ekstasi mes k narkotika jenis ekstasi janji temu pinggir jalan kampung keling lurah dagang ii camat bandar kabupatenne simalungun sekira 2330 wib orang lakilaki kendara 1 unit sepeda motor saksi heri chandra siregar laku samar rekan sembunyi lakilaki narkotika duga narkotika jenis ekstasi saksi heri chandra siregar langsung laku tangkap bantu saksi laku tangkap hadap lakilaki lik tangkap nama surianto alias gundol temu barang bukti upa 1 buah kotak rokok merk dunhill warna merah risi ub hasil tangkap laku introgasi lakilaki lembar tissue bungkus plastik bening isi 28 puluh delapan tablet warna hijau duga narkotika jenis ekstasi 1 unit handpone merk nokia warna putih 1 unit sepeda motor merk honda beat warna putih bk 3969 hf alat transportasi dakwa surianto als gundol iwan narkotika keling duga ekstasi dakwa on halaman 6 21 putus nomor 374pidsus2017pn sim d orang narkotika milik iwan keling daftar cari saksisaksi mengintrogasi dakwa surianto alias gundol halaman 6 bel informasi dakwa surianto als gundol saksisaksi bawa dakwa surianto als gundol laku cari hadap iwan keling rumah diam saksisaksi hasil temu dakwa izin wenang milik simpan kuasa sedia narkotika sat narkoba polres simalungun proses sesuai hukum laku dasar berita acara timbang perum gadai ub lik saksisaksi serah dakwa barang bukti pematang siantar no16410040002017 tanggal 07 april 2017 tanda tangan suripto pimpin cabang pt gadai persero pematang siantar hasil timbang barang bukti nama surianto alias gundol upa 1 buah k plastik bening isi 28 puluh delapan butir duga narkotika jenis ekstasi berat kotor 818 delapan koma delapan belasne gram berat bersih 798 tujuh koma sembilan puluh delapan gram berita acara periksa laboratoris no267adiv2017balai lab narkoba tanggal 17 april 2017 1 maimunah ssi msi 2 rieska dwi widayati laboratorium narkoba badan narkotika nasional simpul periksa barang bukti milik dakwa kandung metamfetamina daftar golong i nomor urut 61 lampir i undang ub lik undang republik indonesia nomor 35 2009 narkotika dakwa atur ancam pidana pasal 112 ayat 2 undangundang ri no 35 2009 narkotika timbang hadap dakwa tuntut dakwa bukti dakwa tuntut aju saksisaksi nababan sumpah janji pokok on 1 marudut halaman 7 21 putus nomor 374pidsus2017pn sim d terang timbang nasihat hukum dakwa aju berat halaman 7 wib kamis tanggal 06 april 2017 sekira 2330 kampung keling lurah dagang ii kec bandar kabupaten simalungun rekan laku tangkap syarif noor solin fernando nababan heri candra siregar barang sita tangkap dakwa surianto als gundol 1 bungkus plastik bening isi 28 puluh delapan butir tablet warna hijau duga narkotika jenis ekstasi 1satu buah kotak rokok merk dunhill ub lik warna merah 1 lembar kertas tissue 1 unit handpone merk nokia warna putih 1 unit sepeda motor merk honda beat warna putih bk 3969 hf norangka mh1jfp11xfk574163 no mesin jfd1e 1579094 dakwa barang bukti temu laku k introgasi milik narkotika duga ekstasi dakwa surianto als gundol menerangkanne milik narkotika duga ekstasi bel dakwa surianto als gundol peran bega kurir milik bandar nama iwan keling laku kembang laku cari hadap iwan keling rumah diam iwan keling tunggu beli narkotika jenis ekstasi bawa surianto als gundol iwan keling hasil temu milik kuasa sedia narkotika jenis ub ekstasi hadap terang saksi dakwa terang saksi 2 syarif noor solin sumpah janji pokok terang lik dakwa tidaka milik izin jual beli kampung keling lurah dagang ii kec bandar kabupaten marudut nababan fernando nababan halaman 8 21 putus nomor 374pidsus2017pn sim d candra siregar heri on simalungun rekan laku tangkap kamis tanggal 06 april 2017 sekira 2330 wib halaman 8 barang sita tangkap dakwa surianto als gundol 1 bungkus plastik bening isi 28 puluh delapan butir tablet warna hijau duga narkotika jenis ekstasi 1satu buah kotak rokok merk dunhill warna merah 1 lembar kertas tissue 1 unit handpone merk nokia warna putih 1 unit sepeda motor merk honda beat warna putih bk 3969 hf norangka mh1jfp11xfk574163 no mesin jfd1e 1579094 dakwa barang bukti temu laku ub lik introgasi milik narkotika duga ekstasi dakwa surianto als gundol terang milik narkotika duga ekstasi bel dakwa surianto als gundol peran bega kurir milik bandar nama k iwan keling laku kembang laku cari terhadapne iwan keling rumah diam iwan keling tunggu beli narkotika jenis ekstasi bawa surianto als gundol iwan keling hasil temu dakwa milik izin jual beli milik kuasa sedia narkotika jenis ekstasi hadap terang saksi dakwa lik 3 fernando nababan sumpah janji pokok terang kamis tanggal 06 april 2017 sekira 2330 wib ub terang saksi kampung keling lurah dagang ii kec bandar kabupaten simalungun saksi rekan saksi syarif noor solin marudut nababan heri candra siregar barang sita tangkap dakwa bening isi 28 puluh delapan butir tablet warna hijau duga narkotika jenis ekstasi 1satu buah kotak rokok merk dunhill on warna merah 1 lembar kertas tissue 1 unit handpone surianto als gundol 1 bungkus plastik halaman 9 21 putus nomor 374pidsus2017pn sim d merk nokia warna putih 1 unit sepeda motor merk honda halaman 9 beat warna putih bk 3969 hf norangka mh1jfp11xfk574163 no mesin jfd1e 1579094 dakwa barang bukti temu laku introgasi milik narkotika duga ekstasi dakwa surianto als gundol terang milik narkotika duga ekstasi bel dakwa surianto als gundol peran bega kurir milik bandar nama iwan keling ub lik laku kembang laku cari hadap iwan keling rumah diam iwan keling tunggu beli narkotika jenis ekstasi bawa surianto als gundol iwan keling hasil temu dakwa tidaka milik izin jual beli k milik kuasa sedia narkotika jenisne ekstasi hadap terang saksi dakwa terang saksi 4 heri candra siregar sumpah janji pokok terang kamis tanggal 06 april 2017 sekira 2330 wib kampung keling lurah dagang ii kec bandar kabupaten simalungun saksi rekan laku tangkap lik nababan barang sita tangkap dakwa bening ub surianto als gundol 1 bungkus plastik syarif noor solin marudut nababan fernando isi 28 puluh delapan butir tablet warna hijau duga narkotika jenis ekstasi 1satu buah kotak rokok merk dunhill warna merah 1 lembar kertas tissue 1 unit handpone merk nokia warna putih 1 unit sepeda motor merk honda beat dakwa barang bukti temu laku introgasi milik narkotika ekstasi terang halaman 10 21 putus nomor 374pidsus2017pn sim d dakwa surianto als gundol jenis on mesin jfd1e 1579094 warna putih bk 3969 hf norangka mh1jfp11xfk574163 no halaman 10 milik narkotika duga ekstasi bel dakwa surianto als gundol peran bega kurir milik bandar nama iwan keling laku kembang laku cari hadap iwan keling rumah diam iwan keling tunggu beli narkotika jenis ekstasi bawa surianto als gundol iwan keling hasil temu dakwa tidaka milik izin jual beli ub lik milik kuasa sedia narkotika jenis ekstasi hadap terang saksi dakwa terang saksi k timbang dakwa sidang terang pokok tangkap hubung milik ataune erti kuasa 1 bungkus plastik bening isi 28 puluh delapan butir pil warna hijau duga narkotika jenis ekstasi dakwa orang obat kancing obor dakwa pidana 1998 laku tindak pidana curi buah kepala sawit milik ptpn iv dosin jatuh jalan hukum penjara 3 15 belas dakwa tangkap kamis tanggal 06 april 2017 lik kab simalungun tangkap terdakwaa 5 orang laki ub laki anggota polisi barang bukti temu polisi kuasa dakwa 1 bungkus plastik bening 2330 wib kampung keling kel dagang ii kec bandar isi 28 puluh delapan butir tablet warna hijau duga narkotika jenis ekstasi 1satu buah kotak rokok merk dunhill warna merah 1 lembar kertas sepeda motor merk honda beat warna putih bk 3969 hf norangka mh1jfp11xfk574163 no mesin jfd1e 1579094 on dakwa terang 1 bungkus plastik bening isi 28 tissue 1 unit handpone merk nokia warna putih 1 unit halaman 11 21 putus nomor 374pidsus2017pn sim d puluh delapan butir pil warna hujau narkotika jenis ekstasi halaman 11 handphone merk nokia warna putih milik dakwa 1 unit sepeda motor merk honda beat bk 3769hf warna putih milik iwan keling identitas lengkap nama iwan keling lk 41 jawa islam kerja alamat pasar i dagang kec bandar kab simalungun ciriciri badan tegap pendek warna kulit hitam rambut hitam pendek 160 cm mata hitam hidung pesek tuju dakwa milik kuasa 1 bungkus plastik bening isi 28 puluh delapan ekstasi dakwa ub lik ikan serah bel nama babah dakwa imbal upa narkotika dakwa pakai dakwa milik izin jual beli milik kuasa sedia narkotika jenis ekstasi k ne timbang tuntut aju barang bukti 1 bungkus plastik bening isi 28 puluh delapan butir tablet warna hijau duga narkotika jenis ekstasi berat kotor 818 gram berat bersih 798 gram 1 buah kotak rokok merk dunhil warna merah 1 lembar kertas tissu 1 unit hp merk nokia warna putih 1 unit sepeda motor merk honda beat warna putih bk 3969 hf lik aju faktafakta hukum kamis tanggal 06 april 2017 sekira 2100 wib saksi marudut nababan saksi syarif noor solin saksi ub timbang dasar alat bukti barang bukti fernando nababan saksi heri candra siregar anggota polres simalungun informasi masyarakat layak percaya daerah kampung keling lurah dagang ii camat bandar kabupaten simalungun ekstasi dasar informasi saksisaksi berangkat tuju saksi heri chandra siregar on halaman 12 21 putus nomor 374pidsus2017pn sim d maksud lokasi penyalahgunaan narkotika jual beli narkotika nama iwan keling 1 unit milik teman dakwa halaman 12 buy beli selubung hadap laku under cover bandar jual narkotika jenis ekstasi mes narkotika jenis ekstasi janji temu pinggir jalan kampung keling lurah dagang ii camat bandar kabupaten simalungun sekira 2330 wib orang lakilaki kendara 1 unit sepeda motor saksi heri rekan sembunyi lakilaki narkotika duga narkotika jenis ekstasi saksi ub lik chandra siregar laku samar heri chandra siregar langsung laku tangkap bantu saksi laku tangkap hadap lakilaki hasil tangkap laku introgasi lakilaki k tangkap nama surianto alias gundol temu barang bukti upa 1 buah kotak ne rokok merk dunhill warna merah risi lembar tissue bungkus plastik bening isi 28 puluh delapan tablet warna hijau duga narkotika jenis ekstasi 1 unit handpone merk nokia warna putih 1 unit sepeda motor merk honda beat warna putih bk 3969 hf alat transportasi saksisaksi mengintrogasi dakwa surianto alias gundol dakwa surianto als gundol dakwa jual beli lik daftar cari orang narkotika jenis ekstasi ub bel dakwa izin wenang jual serah narkotika beli terima jual beli tukar berita acara timbang perum gadai pematang tanda tangan suripto pimpin cabang pt gadai persero pematang siantar terang hasil timbang on halaman 13 21 putus nomor 374pidsus2017pn sim d barang bukti nama surianto alias gundol upa 1 buah siantar no16410040002017 tanggal 07 april 2017 narkotika dakwa suruh iwan keling halaman 13 plastik bening isi 28 puluh delapan butir duga narkotika jenis ekstasi berat kotor 818 delapan koma delapan belas gram berat bersih 798 tujuh koma sembilan puluh delapan gram berita acara periksa laboratoris no267adiv2017balai lab narkoba tanggal 17 april 2017 1 maimunah ssi msi 2 rieska dwi widayati laboratorium narkoba badan narkotika nasional terang barang bukti milik dakwa kandung metamfetamina daftar golong i nomor urut 61 lampir i undang undang republik timbang ub lik indonesia nomor 35 2009 narkotika majelis hakim timbang dasar faktafakta hukum dakwa nyata laku tindak pidana dakwa k timbang dakwa dakwa tuntut faktafakta hukum pilih langsungne perhati dakwa bentuk alternatif majelis hakim dakwa alternatif atur pasal 114 ayat 2 undang undang no 35 2009 narkotika unsurunsurnya 1 orang 2 hak lawan hukum tawar jual jual beli terima jual belimenukar serah narkotika golong i bentuk tanam lik timbang hadap unsurunsur majelis hakim ub timbang ad 1 orang timbang maksud orang unsur berat 5 gram orang orang manusia subyek hukum pidana laku timbang dasar terang saksi on sidang terang dakwa surat perintah tahan laku tindak pidana dipertanggungjawabkan halaman 14 21 putus nomor 374pidsus2017pn sim d dakwa hadap periksa identitas halaman 14 sidang sidang maktub berita acara perkara terang saksi sidang adil negeri adil simalungun surianto alias gundol timbang dakwa erti orang maksud unsur dakwa majelis rian unsur orang penuh ub lik ad 2 hak lawan hukum tawar jual jual beli terima jual belimenukar serah narkotika golong i bentuk tanam berat 5 gram penuh dakwa laku salah perbuatanne k timbang unsur sifat alternatif timbang dasar faktafakta sidang kamis tanggal 06 april 2017 sekira 2100 wib saksi marudut nababan saksi syarif noor solin saksi fernando nababan saksi heri candra siregar masingmasing anggota polres simalungun informasi masyarakat layak percaya daerah kampung keling lurah dagang ii camat bandar lik jual beli narkotika ekstasi dasar informasi saksisaksi berangkat tuju lokasi maksud saksi heri chandra siregar ub kabupaten simalungun penyalahgunaan narkotika laku under cover buy beli selubung hadap bandar jual narkotika jenis ekstasi mes narkotika jenis ekstasi janji temu pinggir jalan kampung keling lurah dagang ii camat bandar kabupaten kendara 1 unit sepeda motor saksi heri chandra siregar laku samar on halaman 15 21 putus nomor 374pidsus2017pn sim d rekan sembunyi simalungun sekira 2330 wib orang lakilaki halaman 15 lakilaki narkotika duga narkotika jenis ekstasi saksi heri chandra siregar langsung laku tangkap bantu saksi laku tangkap hadap lakilaki hasil tangkap laku introgasi lakilaki tangkap nama surianto alias gundol temu barang bukti upa 1 buah ub lik kotak rokok merk dunhill warna merah risi lembar tissue bungkus plastik bening isi 28 puluh delapan tablet warna hijau duga narkotika jenis ekstasi 1 unit handpone merk nokia warna putih 1 unit sepeda motor merk honda beat warna putih bk 3969 hf alat k transportasi saksisaksi mengintrogasi dakwa surianto aliasne gundol dakwa surianto als gundol dakwa jual beli narkotika dakwa suruh iwan keling daftar cari orang narkotika jenis ekstasi bel dakwa izin wenang jual beli terima jual beli berita acara timbang perum gadai pematang lik siantar no16410040002017 tanggal 07 april 2017 gadai persero ub tanda tangan suripto pimpin cabang pt tukar serah narkotika pematang siantar terang hasil timbang barang bukti nama surianto alias gundol upa 1 buah plastik bening isi 28 puluh delapan butir duga narkotika jenis ekstasi berat kotor 818 delapan berita acara periksa laboratoris on sembilan puluh delapan gram koma delapan belas gram berat bersih 798 tujuh koma halaman 16 21 putus nomor 374pidsus2017pn sim d no267adiv2017balai lab narkoba tanggal 17 april 2017 halaman 16 1 maimunah ssi msi 2 rieska dwi widayati laboratorium narkoba badan narkotika nasional terang barang bukti milik dakwa kandung metamfetamina daftar golong i nomor urut 61 lampir i undang undang republik indonesia nomor 35 2009 narkotika timbang dasar faktafakta hukum majelis hakim dakwa bukti laku hak jual beli narkotika golong i ub lik tanam 5 gram unsur penuh timbang unsur pasal 114 ayat 2 undangundang ri no 35 2009 narkotika penuh dakwa nyata bukti sah k laku tindak pidana dakwa dakwa alternatif tangkap kena tahan yangne timbang perkara hadap dakwa sah tangkap tahan pidana jatuh timbang dakwa tahan tahan hadap dakwa landas alas dakwa tahan timbang hadap barang bukti aju lik timbang sesuai isi pasal 101 ayat 1 undangnomor 35 2009 narkotika ub undang mengaturmenetapkan prekusor narkotika alat barang tindak pidana narkotika rampas negara timbang pasal 101 ayat 1 undang sidang timbang undang nomor 35 2009 narkotika prekursor narkotika rampas negara hakim perhati on halaman 17 21 putus nomor 374pidsus2017pn sim d narkotika proses sidi tindak pidana narkotika prekursor narkotika halaman 17 timbang kait narkotika prekusor narkotika proses sidi tindak pidana narkotika prekursor narkotika lihat pasal 91 ayat 1 undangundang nomor 35 2009 narkotika kepala terima pemberitahuan jaksa negeri sita barang narkotika prekursor narkotika sidik polisi negara republik indonesia sidik bnn 7 tujuh wajib status barang sita narkotika prekursor narkotika bukti perkara ub lik kembang ilmu teknologi didik latih danatau musnah timbang dasar pasal 101 ayat 1 undangundang nomor 35 2009 narkotika k hubung pasal 91 ayat 1 undangundang nomor 35 2009 narkotika majelis hakim status barangne sita narkotika prekursor narkotika musnah timbang sesuai pasal 101 ayat 1 undangundang nomor 35 2009 narkotika hubung pasal 91 ayat 1 undangundang nomor 35 2009 narkotika majelis hakim barang bukti perkara rampas negara manfaat kembang ilmu teknologi didik lik timbang timbang status ub barang bukti patut urai nilainilai hukum gustav radbruch urai kena 3 nilai hukum adil hukum manfaat timbang dasar nilainilai hukum latih kembang ilmu teknologi on narkotika perkaraquo manfaat halaman 18 21 putus nomor 374pidsus2017pn sim d didik latih segi nilai manfaat majelis hakim barang bukti halaman 18 timbang praktik adil putus mahkamah agung nomor 1469kpidsus2014 tanggal 15 oktober 2014 putus mahkamah agung nomor 1445kpidsus2014 tanggal 29 oktober 2014 putus mahkamah agung nomor 499kpidsus2014 tanggal 10 juli 2014 barang bukti upa narkotika alat barang tindak pidana narkotika rampas musnah timbang dasar timbang barang ub lik bukti upa 1 bungkus plastik bening isi 28 puluh delapan butir tablet warna hijau narkotika jenis ekstasi berat kotor 818 gram berat bersih 798 gram sesuai berita acara musnah barang bukti polisi republik indonesia resor simalungun 18 delapan belas butir jenis ekstasi musnah k sisa barang bukti 10 puluh butir bukti sidang 1 buah kotak rokok merk dunhil warna merah 1 satunedimusnahkan lembar kertas tissu 1 unit hp merk nokia warna putih rampas timbang 1 unit sepeda motor merk honda beat warna putih bk 3969 hf rampas negara timbang jatuh pidana hadap dakwa timbang berat lik berat ub rusak bina generasi muda dakwa dukung program perintah upaya berantas tindak pidana narkotika ringan ringan dakwa dakwa sali timbang dakwa jatuh pidana on halaman 19 21 putus nomor 374pidsus2017pn sim d beban bayar biaya perkara dakwa berbelitbelit terang halaman 19 perhati pasal pasal 114 ayat 2 undangundang ri no 35 2009 narkotika undangundang nomor 8 1981 hukum acara pidana atur perundangundangan sangkut adil 1 nyata dakwa surianto alias gundol bukti sah salah laku tindak pidana hak jual beli narkotika golong i ub lik tanam berat 5 gram dakwa 2 jatuh pidana dakwa pidana penjara 6 enam denda rp 1 000000000satu milyar rupiah denda k bayar ganti pidana penjara 6 enam 3 tangkap tahan dijalanine dakwa pidana jatuh 4 dakwa tahan 5 barang bukti upa 1 bungkus plastik bening isi 28 puluh delapan butir tablet warna hijau narkotika jenis ekstasi berat kotor 818 gram berat bersih 798 gram sesuai berita acara musnah barang bukti polisi republik indonesia resor simalungun 18 delapan belas butir jenis ekstasi musnah sisa barang bukti 10 puluh butir bukti sidang 1 buah kotak rokok merk dunhil warna merah 1 lembar kertas tissu lik 1 unit hp merk nokia warna putih rampas musnah hf rampas negara ub 1 unit sepeda motor merk honda beat warna putih bk 3969 6 beban dakwa bayar biaya perkara rp 500000 ribu rupiah adil negeri simalungun rabu tanggal 11 oktober 2017 abd had nasution shmh hakim ketua hendrawan on nainggolan sh nasfi firdaus sh mh masingmasing hakim putus sidang musyawarat majelis hakim halaman 20 21 putus nomor 374pidsus2017pn sim d anggota sidang buka senin halaman 20 tanggal 23 oktober 2017 hakim ketua damping hakim anggota bantu jonny sidabutar sh panitera ganti adil negeri simalungun hadir jan maswan surat sh tuntut dakwa damping nasihat hukum antoni sumihar purba sh hakim ketua hakim anggota abd had nasution shmh ub lik hendrawan nainggolan sh k nasfi firdaus sh mhne jonny sidabutar sh on halaman 21 21 putus nomor 374pidsus2017pn sim d ub lik panitera ganti halaman 21']"
      ]
     },
     "execution_count": 12,
     "metadata": {},
     "output_type": "execute_result"
    }
   ],
   "source": [
    "# Preprocess the document text\n",
    "cleaned_text = clean_text(document_text)\n",
    "sentences = tokenize_sentences(cleaned_text)\n",
    "\n",
    "# Apply stemming and remove stopwords for each sentence\n",
    "processed_sentences = []\n",
    "for sentence in sentences:\n",
    "    tokens = word_tokenize(sentence)\n",
    "    tokens = apply_stemming(tokens)\n",
    "    tokens = remove_stopwords(tokens)\n",
    "    processed_sentences.append(' '.join(tokens))\n",
    "\n",
    "# Display the first 5 processed sentences\n",
    "processed_sentences[:5]"
   ]
  },
  {
   "cell_type": "code",
   "execution_count": 39,
   "id": "1ec5231f",
   "metadata": {},
   "outputs": [
    {
     "ename": "NameError",
     "evalue": "name 'improved_tokenized_sentences' is not defined",
     "output_type": "error",
     "traceback": [
      "\u001b[31m---------------------------------------------------------------------------\u001b[39m",
      "\u001b[31mNameError\u001b[39m                                 Traceback (most recent call last)",
      "\u001b[36mCell\u001b[39m\u001b[36m \u001b[39m\u001b[32mIn[39]\u001b[39m\u001b[32m, line 14\u001b[39m\n\u001b[32m     12\u001b[39m \u001b[38;5;66;03m# Apply stemming to the tokenized sentences\u001b[39;00m\n\u001b[32m     13\u001b[39m tokenized_sentences_stemmed = []\n\u001b[32m---> \u001b[39m\u001b[32m14\u001b[39m \u001b[38;5;28;01mfor\u001b[39;00m doc \u001b[38;5;129;01min\u001b[39;00m \u001b[43mimproved_tokenized_sentences\u001b[49m:\n\u001b[32m     15\u001b[39m     stemmed_sentences = []\n\u001b[32m     16\u001b[39m     \u001b[38;5;28;01mfor\u001b[39;00m sentence \u001b[38;5;129;01min\u001b[39;00m doc:\n",
      "\u001b[31mNameError\u001b[39m: name 'improved_tokenized_sentences' is not defined"
     ]
    }
   ],
   "source": [
    "# Reimporting Sastrawi Stemmer for stemming the Indonesian text\n",
    "from Sastrawi.Stemmer.StemmerFactory import StemmerFactory\n",
    "\n",
    "# Initialize the Sastrawi stemmer\n",
    "factory = StemmerFactory()\n",
    "stemmer = factory.create_stemmer()\n",
    "\n",
    "# Function to apply stemming using Sastrawi\n",
    "def apply_sastrawi_stemming(tokens):\n",
    "    return [stemmer.stem(word) for word in tokens]\n",
    "\n",
    "# Apply stemming to the tokenized sentences\n",
    "tokenized_sentences_stemmed = []\n",
    "for doc in improved_tokenized_sentences:\n",
    "    stemmed_sentences = []\n",
    "    for sentence in doc:\n",
    "        tokens = simple_tokenize_words(sentence)\n",
    "        stemmed_tokens = apply_sastrawi_stemming(tokens)\n",
    "        stemmed_sentences.append(' '.join(stemmed_tokens))\n",
    "    tokenized_sentences_stemmed.append(stemmed_sentences)\n",
    "\n",
    "# Show the first 5 sentences after stemming\n",
    "tokenized_sentences_stemmed[0][:5]  # Show the first 5 sentences after stemming\n"
   ]
  },
  {
   "cell_type": "code",
   "execution_count": null,
   "id": "13e62541",
   "metadata": {},
   "outputs": [],
   "source": []
  }
 ],
 "metadata": {
  "kernelspec": {
   "display_name": "VDBQdrant",
   "language": "python",
   "name": "python3"
  },
  "language_info": {
   "codemirror_mode": {
    "name": "ipython",
    "version": 3
   },
   "file_extension": ".py",
   "mimetype": "text/x-python",
   "name": "python",
   "nbconvert_exporter": "python",
   "pygments_lexer": "ipython3",
   "version": "3.12.1"
  }
 },
 "nbformat": 4,
 "nbformat_minor": 5
}
